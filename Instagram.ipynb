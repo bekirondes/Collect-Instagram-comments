{
 "cells": [
  {
   "cell_type": "code",
   "execution_count": 110,
   "id": "8ddd9a37-dd9f-4bd6-87a2-d0fc465d381e",
   "metadata": {},
   "outputs": [],
   "source": [
    "import requests\n",
    "import pandas as pd\n",
    "import numpy as np\n",
    "import time\n",
    "import random\n",
    "import string\n",
    "import warnings\n",
    "\n",
    "\n",
    "import os\n",
    "from selenium import webdriver\n",
    "from selenium.webdriver.chrome.service import Service as ChromeService\n",
    "from selenium.webdriver.chrome.options import Options\n",
    "from webdriver_manager.chrome import ChromeDriverManager\n",
    "\n",
    "\n",
    "from datetime import datetime\n",
    "from selenium import webdriver\n",
    "from selenium.webdriver.common.keys import Keys\n",
    "from selenium.webdriver.support.select import Select\n",
    "from selenium.webdriver.support.ui import Select\n",
    "from functools import cache,lru_cache\n",
    "\n",
    "from selenium.webdriver.support.ui import WebDriverWait\n",
    "\n",
    "from selenium.webdriver.common.action_chains import ActionChains\n",
    "\n",
    "from selenium import webdriver\n",
    "from selenium.webdriver.common.by import By\n",
    "from selenium.webdriver.support.ui import WebDriverWait\n",
    "from selenium.webdriver.support import expected_conditions as EC\n",
    "\n",
    "warnings.filterwarnings('ignore') # Uyarıları Kaldır.\n",
    "\n",
    "pd.set_option('display.max_rows', None) # Data Frame için tabloların hepsini göster.\n",
    "\n",
    "\n",
    "import chromedriver_autoinstaller \n",
    "\n",
    "\n",
    "import numpy as np\n",
    "import time\n",
    "import warnings\n",
    "\n",
    "\n",
    "from selenium.webdriver.support.select import Select\n",
    "from selenium.webdriver.support.ui import Select\n",
    "from selenium.webdriver.common.by import By\n",
    "from selenium.webdriver.support.wait import WebDriverWait\n",
    "from selenium.webdriver.support import expected_conditions as EC\n",
    "\n",
    "\n",
    "from selenium.webdriver.chrome.service import Service\n",
    "\n",
    "import chromedriver_autoinstaller \n",
    "\n",
    "warnings.filterwarnings('ignore') # Uyarıları Kaldır.\n",
    "import pyperclip"
   ]
  },
  {
   "cell_type": "code",
   "execution_count": 112,
   "id": "0b571a2c-f6d1-4dbb-a335-f69ce78f5347",
   "metadata": {},
   "outputs": [],
   "source": [
    "def open_trendyol_login():\n",
    "    # Chrome seçeneklerini ayarlayın\n",
    "    options = Options()\n",
    "    options.add_experimental_option(\"useAutomationExtension\", False)\n",
    "    options.add_argument(\"--disable-blink-features\")\n",
    "    options.add_argument(\"--disable-blink-features=AutomationControlled\")\n",
    "    options.add_experimental_option(\"excludeSwitches\", [\"enable-automation\"])\n",
    "\n",
    "    # Şifre yöneticisini devre dışı bırakın\n",
    "    prefs = {\"credentials_enable_service\": False, \"profile.password_manager_enabled\": False}\n",
    "    options.add_experimental_option(\"prefs\", prefs)\n",
    "\n",
    "    # Adblock uzantısının yolunu ekleyin\n",
    "    # path_block = r\"C:\\Users\\testinium\\AppData\\Local\\Google\\Chrome\\User Data\\Profile 2\\Extensions\\Adblock.crx\"\n",
    "    # options.add_extension(path_block)\n",
    "\n",
    "    # WebDriver'ı başlatın\n",
    "    chromedriver_path =\"C:\\Program Files (x86)\\chromedriver.exe\"\n",
    "    driver = webdriver.Chrome(service=ChromeService(chromedriver_path), options=options)\n",
    "\n",
    "    # Kullanıcı ajanını değiştirin\n",
    "    chrome_user_agents = [\n",
    "        \"Mozilla/5.0 (Windows NT 10.0; Win64; x64) AppleWebKit/537.36 (KHTML, like Gecko) Chrome/83.0.4103.97 Safari/537.36\",\n",
    "        \"Mozilla/5.0 (Windows NT 10.0; Win64; x64) AppleWebKit/537.36 (KHTML, like Gecko) Chrome/91.0.4472.124 Safari/537.36\",\n",
    "        \"Mozilla/5.0 (Macintosh; Intel Mac OS X 10_15_7) AppleWebKit/537.36 (KHTML, like Gecko) Chrome/91.0.4472.124 Safari/537.36\",\n",
    "        \"Mozilla/5.0 (Windows NT 10.0; Win64; x64) AppleWebKit/537.36 (KHTML, like Gecko) Chrome/89.0.4389.90 Safari/537.36\",\n",
    "        \"Mozilla/5.0 (Macintosh; Intel Mac OS X 10_15_7) AppleWebKit/537.36 (KHTML, like Gecko) Chrome/90.0.4430.212 Safari/537.36\"\n",
    "    ]\n",
    "    random_user_agent = random.choice(chrome_user_agents)\n",
    "    driver.execute_script(f\"navigator.__defineGetter__('userAgent', function() {{ return '{random_user_agent}'; }})\")\n",
    "    # navigator.webdriver özelliğini undefined olarak ayarlayın\n",
    "    driver.execute_script(\"Object.defineProperty(navigator, 'webdriver', {get: () => undefined})\")\n",
    "\n",
    "    time.sleep(2)\n",
    "\n",
    "    # Belirtilen URL'yi açın ve sayfayı yenileyin\n",
    "    driver.get(\"https://www.instagram.com/accounts/login/?hl=en\")\n",
    "    driver.refresh()\n",
    "\n",
    "    driver.maximize_window()\n",
    "\n",
    "    return driver\n",
    "\n",
    "# WebDriver'ı dışarıda başlatın\n",
    "driver = open_trendyol_login()\n",
    "\n",
    "# işlemleriniz bittikten sonra WebDriver'ı kapatın\n",
    "# driver.quit()"
   ]
  },
  {
   "cell_type": "code",
   "execution_count": 116,
   "id": "b0d35d55-59b9-4472-8b5a-4efcd8792e81",
   "metadata": {},
   "outputs": [],
   "source": [
    "def login():\n",
    "\n",
    "    username = driver.find_element(By.XPATH, '//input[@aria-label=\"Phone number, username, or email\"]') \n",
    "    username.send_keys(\"klye_jenter\")\n",
    "    time.sleep(1)\n",
    "    \n",
    "    password = driver.find_element(By.XPATH, '//input[@aria-label=\"Password\"]')\n",
    "    password.send_keys(\"B.eko2147\")\n",
    "    time.sleep(1)\n",
    "    \n",
    "    login = driver.find_element(By.XPATH, '//button[@type=\"submit\"]').click()\n",
    "     \n",
    "    WebDriverWait(driver, 15).until(EC.presence_of_element_located((By.CSS_SELECTOR , \".x1lliihq.x193iq5w.x6ikm8r.x10wlt62.xlyipyv.xuxw1ft\")))\n",
    "    \n",
    "    redirect_page = driver.get(\"https://www.instagram.com/muzikanalisti/?hl=en\")\n",
    "login()\n"
   ]
  },
  {
   "cell_type": "code",
   "execution_count": 182,
   "id": "10201835-c61f-452d-ac7c-1049df518009",
   "metadata": {},
   "outputs": [
    {
     "data": {
      "text/plain": [
       "48"
      ]
     },
     "execution_count": 182,
     "metadata": {},
     "output_type": "execute_result"
    }
   ],
   "source": [
    "total_post_number = driver.find_element(By.CSS_SELECTOR , \".x5n08af.x1s688f\").text\n",
    "total_post_number = int(total_post_number)\n",
    "total_post_number"
   ]
  },
  {
   "cell_type": "code",
   "execution_count": 184,
   "id": "4547733e-bbe9-460b-b778-cc08815ca184",
   "metadata": {},
   "outputs": [
    {
     "data": {
      "text/plain": [
       "int"
      ]
     },
     "execution_count": 184,
     "metadata": {},
     "output_type": "execute_result"
    }
   ],
   "source": [
    "type(total_post_number)"
   ]
  },
  {
   "cell_type": "code",
   "execution_count": 188,
   "id": "51f100a1-fcf1-4e37-9d4f-82667e33aedd",
   "metadata": {
    "collapsed": true,
    "jupyter": {
     "outputs_hidden": true
    }
   },
   "outputs": [
    {
     "name": "stdout",
     "output_type": "stream",
     "text": [
      "0\n",
      "1\n",
      "2\n",
      "3\n",
      "4\n",
      "5\n",
      "6\n",
      "7\n",
      "8\n",
      "9\n",
      "10\n",
      "11\n",
      "12\n",
      "13\n",
      "14\n",
      "15\n",
      "16\n",
      "17\n",
      "18\n",
      "19\n",
      "20\n",
      "21\n",
      "22\n",
      "23\n",
      "24\n",
      "25\n",
      "26\n",
      "27\n",
      "28\n",
      "29\n",
      "30\n",
      "31\n",
      "32\n",
      "33\n",
      "34\n",
      "35\n",
      "36\n",
      "37\n",
      "38\n",
      "39\n",
      "40\n",
      "41\n",
      "42\n",
      "43\n",
      "44\n",
      "45\n",
      "46\n",
      "47\n"
     ]
    }
   ],
   "source": []
  },
  {
   "cell_type": "code",
   "execution_count": null,
   "id": "b8333567-6fd8-4139-816b-30b913c5d5c2",
   "metadata": {},
   "outputs": [],
   "source": []
  },
  {
   "cell_type": "code",
   "execution_count": 122,
   "id": "3f5ebb1e-6ee0-4a26-be95-d6d1112f1bbe",
   "metadata": {},
   "outputs": [
    {
     "name": "stdout",
     "output_type": "stream",
     "text": [
      "1\n"
     ]
    }
   ],
   "source": [
    "driver.implicitly_wait(2)\n",
    "my_element = driver.find_elements(By.XPATH , '//*[name()=\"svg\"]//*[name()=\"title\" and text()=\"Load more comments\"]/ancestor::*[name()=\"svg\"]')\n",
    "print(len(my_element))"
   ]
  },
  {
   "cell_type": "code",
   "execution_count": null,
   "id": "a90dbe48-f0b2-4e41-88db-c432decaff08",
   "metadata": {},
   "outputs": [],
   "source": [
    "def check_next_button(elements):\n",
    "    driver.implicitly_wait(2)\n",
    "    my_element = driver.find_elements(By.CSS_SELECTOR , elements)\n",
    "    return 1 if(len(my_element) > 0) else 0\n",
    "\n",
    "#check_next_button(\"._aaqg._aaqh\")"
   ]
  },
  {
   "cell_type": "code",
   "execution_count": 170,
   "id": "257e8567-8bde-4d17-9241-1e252989bba5",
   "metadata": {},
   "outputs": [
    {
     "name": "stdout",
     "output_type": "stream",
     "text": [
      "Tüm yorumlar yüklendi.\n"
     ]
    }
   ],
   "source": [
    "def check_more_comment(elements):\n",
    "    \n",
    "    driver.implicitly_wait(2)\n",
    "    my_element = driver.find_elements(By.XPATH , elements)\n",
    "\n",
    "    \n",
    "    while True:\n",
    "        driver.implicitly_wait(2)\n",
    "    \n",
    "        elements = driver.find_elements(By.XPATH, '//*[name()=\"svg\"]//*[name()=\"title\" and text()=\"Load more comments\"]/ancestor::*[name()=\"svg\"]')\n",
    "    \n",
    "        if len(elements) > 0:\n",
    "            elements[0].click()\n",
    "            time.sleep(1)  # sayfanın yüklenmesini bekle\n",
    "        else:\n",
    "            break    \n",
    "\n",
    "#check_more_comment('//*[name()=\"svg\"]//*[name()=\"title\" and text()=\"Load more comments\"]/ancestor::*[name()=\"svg\"]')"
   ]
  },
  {
   "cell_type": "code",
   "execution_count": 160,
   "id": "ec8a9603-552e-48e7-9f99-fa0436aef84d",
   "metadata": {},
   "outputs": [
    {
     "data": {
      "text/plain": [
       "[<selenium.webdriver.remote.webelement.WebElement (session=\"4894c4990291bc6213e4274e52cbcc9a\", element=\"f.DDB2B27E0DF322FCD4DB50B6DCAB0C36.d.E47DC093A41F0308329367F2926A2980.e.304\")>,\n",
       " <selenium.webdriver.remote.webelement.WebElement (session=\"4894c4990291bc6213e4274e52cbcc9a\", element=\"f.DDB2B27E0DF322FCD4DB50B6DCAB0C36.d.E47DC093A41F0308329367F2926A2980.e.305\")>,\n",
       " <selenium.webdriver.remote.webelement.WebElement (session=\"4894c4990291bc6213e4274e52cbcc9a\", element=\"f.DDB2B27E0DF322FCD4DB50B6DCAB0C36.d.E47DC093A41F0308329367F2926A2980.e.350\")>,\n",
       " <selenium.webdriver.remote.webelement.WebElement (session=\"4894c4990291bc6213e4274e52cbcc9a\", element=\"f.DDB2B27E0DF322FCD4DB50B6DCAB0C36.d.E47DC093A41F0308329367F2926A2980.e.351\")>,\n",
       " <selenium.webdriver.remote.webelement.WebElement (session=\"4894c4990291bc6213e4274e52cbcc9a\", element=\"f.DDB2B27E0DF322FCD4DB50B6DCAB0C36.d.E47DC093A41F0308329367F2926A2980.e.352\")>,\n",
       " <selenium.webdriver.remote.webelement.WebElement (session=\"4894c4990291bc6213e4274e52cbcc9a\", element=\"f.DDB2B27E0DF322FCD4DB50B6DCAB0C36.d.E47DC093A41F0308329367F2926A2980.e.353\")>,\n",
       " <selenium.webdriver.remote.webelement.WebElement (session=\"4894c4990291bc6213e4274e52cbcc9a\", element=\"f.DDB2B27E0DF322FCD4DB50B6DCAB0C36.d.E47DC093A41F0308329367F2926A2980.e.354\")>]"
      ]
     },
     "execution_count": 160,
     "metadata": {},
     "output_type": "execute_result"
    }
   ],
   "source": [
    "text"
   ]
  },
  {
   "cell_type": "code",
   "execution_count": 162,
   "id": "75461076-69fe-4264-9287-28ec8f5c5091",
   "metadata": {},
   "outputs": [
    {
     "name": "stdout",
     "output_type": "stream",
     "text": [
      "Müziğin veri ile buluştuğu an.\n",
      "Müziğin veri ile buluştuğu an.\n",
      "Adamlar - \"Kadın\" şarkı analizi yayında.\n",
      "\n",
      "Daha fazla müzik analizi için @muzikanalisti hesabını takip etmeyi unutmayın😊\n",
      "\n",
      "Yorumlarda neler düşündüğünü hangi şarkıları analiz etmemizi istediğini ya da nasıl daha iyi yapabileceğimizi yazarsanız çok seviniriz:)\n",
      "\n",
      "#adamlar #kadin #kadın #şarkı #şarkısözleri #şarkıanalizi #ruhhalim #mood #şarkılar #rock #alternativerock\n",
      "Hidra - Türkçe Rap\n",
      "Çilekeş - Kendimden geriye yapar mısın\n",
      "Norm ender - içinde patlar\n",
      "Adamlar zombi varken neden bu şarkıyı yaptın\n"
     ]
    }
   ],
   "source": [
    "for get_text in text:\n",
    "    print(get_text.text)"
   ]
  },
  {
   "cell_type": "code",
   "execution_count": null,
   "id": "8403319f-a40f-4877-b108-80db7eac745e",
   "metadata": {},
   "outputs": [],
   "source": [
    "for i in range(total_post_number) :\n",
    "    print(i)"
   ]
  },
  {
   "cell_type": "code",
   "execution_count": 230,
   "id": "4bcd2f86-a3f1-4857-9616-46bde14c2609",
   "metadata": {},
   "outputs": [],
   "source": [
    "metin= []\n",
    "def get_all_comment():\n",
    "\n",
    "    click_first_post = driver.find_element(By.CSS_SELECTOR , \".x1lliihq.x1n2onr6.xh8yej3.x4gyw5p.x14z9mp.xzj7kzq.xbipx2v.x1j53mea\").click()\n",
    "\n",
    "\n",
    "\n",
    "    for i in range(total_post_number) :\n",
    "    \n",
    "        check_more_comment('//*[name()=\"svg\"]//*[name()=\"title\" and text()=\"Load more comments\"]/ancestor::*[name()=\"svg\"]')\n",
    "    \n",
    "        text = driver.find_elements(By.CSS_SELECTOR , \"._ap3a._aaco._aacu._aacx._aad7._aade\")\n",
    "    \n",
    "        for get_text in text[3:] :\n",
    "            \n",
    "            metin.append(get_text.text)\n",
    "        if check_next_button(\"._aaqg._aaqh\") > 0 :\n",
    "            \n",
    "            next_button = driver.find_element(By.CSS_SELECTOR , \"._aaqg._aaqh\" ).click()\n",
    "    \n",
    "        print(i,\". post için yorumlar alındı.\")\n",
    "    "
   ]
  },
  {
   "cell_type": "code",
   "execution_count": 232,
   "id": "7d40fbc5-1c0d-4d1f-8288-bb2dc15efa34",
   "metadata": {},
   "outputs": [
    {
     "name": "stdout",
     "output_type": "stream",
     "text": [
      "Tüm yorumlar yüklendi.\n",
      "0 . post için yorumlar alındı.\n",
      "Tüm yorumlar yüklendi.\n",
      "1 . post için yorumlar alındı.\n",
      "Tüm yorumlar yüklendi.\n",
      "2 . post için yorumlar alındı.\n",
      "Tüm yorumlar yüklendi.\n",
      "3 . post için yorumlar alındı.\n",
      "Tüm yorumlar yüklendi.\n",
      "4 . post için yorumlar alındı.\n",
      "Tüm yorumlar yüklendi.\n",
      "5 . post için yorumlar alındı.\n",
      "Tüm yorumlar yüklendi.\n",
      "6 . post için yorumlar alındı.\n",
      "Tüm yorumlar yüklendi.\n",
      "7 . post için yorumlar alındı.\n",
      "Tüm yorumlar yüklendi.\n",
      "8 . post için yorumlar alındı.\n",
      "Tüm yorumlar yüklendi.\n",
      "9 . post için yorumlar alındı.\n",
      "Tüm yorumlar yüklendi.\n",
      "10 . post için yorumlar alındı.\n",
      "Tüm yorumlar yüklendi.\n",
      "11 . post için yorumlar alındı.\n",
      "Tüm yorumlar yüklendi.\n",
      "12 . post için yorumlar alındı.\n",
      "Tüm yorumlar yüklendi.\n",
      "13 . post için yorumlar alındı.\n",
      "Tüm yorumlar yüklendi.\n",
      "14 . post için yorumlar alındı.\n",
      "Tüm yorumlar yüklendi.\n",
      "15 . post için yorumlar alındı.\n",
      "Tüm yorumlar yüklendi.\n",
      "16 . post için yorumlar alındı.\n",
      "Tüm yorumlar yüklendi.\n",
      "17 . post için yorumlar alındı.\n",
      "Tüm yorumlar yüklendi.\n",
      "18 . post için yorumlar alındı.\n",
      "Tüm yorumlar yüklendi.\n",
      "19 . post için yorumlar alındı.\n",
      "Tüm yorumlar yüklendi.\n",
      "20 . post için yorumlar alındı.\n",
      "Tüm yorumlar yüklendi.\n",
      "21 . post için yorumlar alındı.\n",
      "Tüm yorumlar yüklendi.\n",
      "22 . post için yorumlar alındı.\n",
      "Tüm yorumlar yüklendi.\n",
      "23 . post için yorumlar alındı.\n",
      "Tüm yorumlar yüklendi.\n",
      "24 . post için yorumlar alındı.\n",
      "Tüm yorumlar yüklendi.\n",
      "25 . post için yorumlar alındı.\n",
      "Tüm yorumlar yüklendi.\n",
      "26 . post için yorumlar alındı.\n",
      "Tüm yorumlar yüklendi.\n",
      "27 . post için yorumlar alındı.\n",
      "Tüm yorumlar yüklendi.\n",
      "28 . post için yorumlar alındı.\n",
      "Tüm yorumlar yüklendi.\n",
      "29 . post için yorumlar alındı.\n",
      "Tüm yorumlar yüklendi.\n",
      "30 . post için yorumlar alındı.\n",
      "Tüm yorumlar yüklendi.\n",
      "31 . post için yorumlar alındı.\n",
      "Tüm yorumlar yüklendi.\n",
      "32 . post için yorumlar alındı.\n",
      "Tüm yorumlar yüklendi.\n",
      "33 . post için yorumlar alındı.\n",
      "Tüm yorumlar yüklendi.\n",
      "34 . post için yorumlar alındı.\n",
      "Tüm yorumlar yüklendi.\n",
      "35 . post için yorumlar alındı.\n",
      "Tüm yorumlar yüklendi.\n",
      "36 . post için yorumlar alındı.\n",
      "Tüm yorumlar yüklendi.\n",
      "37 . post için yorumlar alındı.\n",
      "Tüm yorumlar yüklendi.\n",
      "38 . post için yorumlar alındı.\n",
      "Tüm yorumlar yüklendi.\n",
      "39 . post için yorumlar alındı.\n",
      "Tüm yorumlar yüklendi.\n",
      "40 . post için yorumlar alındı.\n",
      "Tüm yorumlar yüklendi.\n",
      "41 . post için yorumlar alındı.\n",
      "Tüm yorumlar yüklendi.\n",
      "42 . post için yorumlar alındı.\n",
      "Tüm yorumlar yüklendi.\n",
      "43 . post için yorumlar alındı.\n",
      "Tüm yorumlar yüklendi.\n",
      "44 . post için yorumlar alındı.\n",
      "Tüm yorumlar yüklendi.\n",
      "45 . post için yorumlar alındı.\n",
      "Tüm yorumlar yüklendi.\n",
      "46 . post için yorumlar alındı.\n",
      "Tüm yorumlar yüklendi.\n",
      "47 . post için yorumlar alındı.\n"
     ]
    }
   ],
   "source": [
    "get_all_comment()"
   ]
  },
  {
   "cell_type": "code",
   "execution_count": 234,
   "id": "67740f46-a606-4969-abb2-6c03087965d0",
   "metadata": {},
   "outputs": [
    {
     "data": {
      "text/plain": [
       "244"
      ]
     },
     "execution_count": 234,
     "metadata": {},
     "output_type": "execute_result"
    }
   ],
   "source": [
    "len(metin)"
   ]
  },
  {
   "cell_type": "code",
   "execution_count": null,
   "id": "09f41ca0-9d39-4bf5-8a03-6f1d0e01f9dd",
   "metadata": {},
   "outputs": [],
   "source": [
    "met"
   ]
  },
  {
   "cell_type": "code",
   "execution_count": null,
   "id": "5ce0c11f-0fd0-435b-84c4-6684f10920ce",
   "metadata": {},
   "outputs": [],
   "source": []
  },
  {
   "cell_type": "code",
   "execution_count": null,
   "id": "8459a359-cb76-43c5-8006-4af5dbb4601f",
   "metadata": {},
   "outputs": [],
   "source": []
  },
  {
   "cell_type": "code",
   "execution_count": null,
   "id": "19b6d4af-9fc5-4077-830b-b74238ac060e",
   "metadata": {},
   "outputs": [],
   "source": []
  },
  {
   "cell_type": "code",
   "execution_count": null,
   "id": "0d152ab8-4425-40f4-a085-ea107323a007",
   "metadata": {},
   "outputs": [],
   "source": []
  },
  {
   "cell_type": "code",
   "execution_count": 164,
   "id": "3cdff6fd-9700-4b0c-80af-d7349edbfc69",
   "metadata": {},
   "outputs": [
    {
     "data": {
      "text/plain": [
       "1"
      ]
     },
     "execution_count": 164,
     "metadata": {},
     "output_type": "execute_result"
    }
   ],
   "source": []
  },
  {
   "cell_type": "code",
   "execution_count": 184,
   "id": "f8a96424-9f48-4de2-b18c-df2f3498e796",
   "metadata": {},
   "outputs": [
    {
     "name": "stdout",
     "output_type": "stream",
     "text": [
      "COngrat\n"
     ]
    }
   ],
   "source": [
    "if(check_next_button(\"._aaqg._aaqh\")>0):\n",
    "    print(\"COngrat\")\n",
    "else:\n",
    "    print(\"check\")"
   ]
  },
  {
   "cell_type": "code",
   "execution_count": 168,
   "id": "6bbdd29a-4016-4dd2-9e4a-adb6d885ce8b",
   "metadata": {},
   "outputs": [],
   "source": []
  },
  {
   "cell_type": "code",
   "execution_count": null,
   "id": "a66f17aa-4c86-471b-a6db-f0b9b1790823",
   "metadata": {},
   "outputs": [],
   "source": []
  }
 ],
 "metadata": {
  "kernelspec": {
   "display_name": "Python [conda env:base] *",
   "language": "python",
   "name": "conda-base-py"
  },
  "language_info": {
   "codemirror_mode": {
    "name": "ipython",
    "version": 3
   },
   "file_extension": ".py",
   "mimetype": "text/x-python",
   "name": "python",
   "nbconvert_exporter": "python",
   "pygments_lexer": "ipython3",
   "version": "3.12.7"
  }
 },
 "nbformat": 4,
 "nbformat_minor": 5
}
