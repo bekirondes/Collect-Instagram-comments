{
 "cells": [
  {
   "cell_type": "code",
   "execution_count": 74,
   "id": "8ddd9a37-dd9f-4bd6-87a2-d0fc465d381e",
   "metadata": {},
   "outputs": [],
   "source": [
    "import requests\n",
    "import pandas as pd\n",
    "import numpy as np\n",
    "import time\n",
    "import random\n",
    "import string\n",
    "import warnings\n",
    "\n",
    "test\n",
    "\n",
    "\n",
    "import os\n",
    "from selenium import webdriver\n",
    "from selenium.webdriver.chrome.service import Service as ChromeService\n",
    "from selenium.webdriver.chrome.options import Options\n",
    "from webdriver_manager.chrome import ChromeDriverManager\n",
    "\n",
    "\n",
    "from datetime import datetime\n",
    "from selenium import webdriver\n",
    "from selenium.webdriver.common.keys import Keys\n",
    "from selenium.webdriver.support.select import Select\n",
    "from selenium.webdriver.support.ui import Select\n",
    "from functools import cache,lru_cache\n",
    "\n",
    "from selenium.webdriver.support.ui import WebDriverWait\n",
    "\n",
    "from selenium.webdriver.common.action_chains import ActionChains\n",
    "\n",
    "from selenium import webdriver\n",
    "from selenium.webdriver.common.by import By\n",
    "from selenium.webdriver.support.ui import WebDriverWait\n",
    "from selenium.webdriver.support import expected_conditions as EC\n",
    "\n",
    "warnings.filterwarnings('ignore') # Uyarıları Kaldır.\n",
    "\n",
    "pd.set_option('display.max_rows', None) # Data Frame için tabloların hepsini göster.\n",
    "\n",
    "\n",
    "import chromedriver_autoinstaller \n",
    "\n",
    "\n",
    "import numpy as np\n",
    "import time\n",
    "import warnings\n",
    "\n",
    "\n",
    "from selenium.webdriver.support.select import Select\n",
    "from selenium.webdriver.support.ui import Select\n",
    "from selenium.webdriver.common.by import By\n",
    "from selenium.webdriver.support.wait import WebDriverWait\n",
    "from selenium.webdriver.support import expected_conditions as EC\n",
    "\n",
    "\n",
    "from selenium.webdriver.chrome.service import Service\n",
    "\n",
    "import chromedriver_autoinstaller \n",
    "\n",
    "warnings.filterwarnings('ignore') # Uyarıları Kaldır.\n",
    "import pyperclip"
   ]
  },
  {
   "cell_type": "code",
   "execution_count": 76,
   "id": "0b571a2c-f6d1-4dbb-a335-f69ce78f5347",
   "metadata": {},
   "outputs": [],
   "source": [
    "def open_trendyol_login():\n",
    "    # Chrome seçeneklerini ayarlayın\n",
    "    options = Options()\n",
    "    options.add_experimental_option(\"useAutomationExtension\", False)\n",
    "    options.add_argument(\"--disable-blink-features\")\n",
    "    options.add_argument(\"--disable-blink-features=AutomationControlled\")\n",
    "    options.add_experimental_option(\"excludeSwitches\", [\"enable-automation\"])\n",
    "\n",
    "    # Şifre yöneticisini devre dışı bırakın\n",
    "    prefs = {\"credentials_enable_service\": False, \"profile.password_manager_enabled\": False}\n",
    "    options.add_experimental_option(\"prefs\", prefs)\n",
    "\n",
    "    # Adblock uzantısının yolunu ekleyin\n",
    "    # path_block = r\"C:\\Users\\testinium\\AppData\\Local\\Google\\Chrome\\User Data\\Profile 2\\Extensions\\Adblock.crx\"\n",
    "    # options.add_extension(path_block)\n",
    "\n",
    "    # WebDriver'ı başlatın\n",
    "    chromedriver_path =\"C:\\Program Files (x86)\\chromedriver.exe\"\n",
    "    driver = webdriver.Chrome(service=ChromeService(chromedriver_path), options=options)\n",
    "\n",
    "    # Kullanıcı ajanını değiştirin\n",
    "    chrome_user_agents = [\n",
    "        \"Mozilla/5.0 (Windows NT 10.0; Win64; x64) AppleWebKit/537.36 (KHTML, like Gecko) Chrome/83.0.4103.97 Safari/537.36\",\n",
    "        \"Mozilla/5.0 (Windows NT 10.0; Win64; x64) AppleWebKit/537.36 (KHTML, like Gecko) Chrome/91.0.4472.124 Safari/537.36\",\n",
    "        \"Mozilla/5.0 (Macintosh; Intel Mac OS X 10_15_7) AppleWebKit/537.36 (KHTML, like Gecko) Chrome/91.0.4472.124 Safari/537.36\",\n",
    "        \"Mozilla/5.0 (Windows NT 10.0; Win64; x64) AppleWebKit/537.36 (KHTML, like Gecko) Chrome/89.0.4389.90 Safari/537.36\",\n",
    "        \"Mozilla/5.0 (Macintosh; Intel Mac OS X 10_15_7) AppleWebKit/537.36 (KHTML, like Gecko) Chrome/90.0.4430.212 Safari/537.36\"\n",
    "    ]\n",
    "    random_user_agent = random.choice(chrome_user_agents)\n",
    "    driver.execute_script(f\"navigator.__defineGetter__('userAgent', function() {{ return '{random_user_agent}'; }})\")\n",
    "    # navigator.webdriver özelliğini undefined olarak ayarlayın\n",
    "    driver.execute_script(\"Object.defineProperty(navigator, 'webdriver', {get: () => undefined})\")\n",
    "\n",
    "    time.sleep(2)\n",
    "\n",
    "    # Belirtilen URL'yi açın ve sayfayı yenileyin\n",
    "    driver.get(\"https://www.instagram.com/accounts/login/?hl=en\")\n",
    "    driver.refresh()\n",
    "\n",
    "    driver.maximize_window()\n",
    "\n",
    "    return driver\n",
    "\n",
    "# WebDriver'ı dışarıda başlatın\n",
    "driver = open_trendyol_login()\n",
    "\n",
    "# işlemleriniz bittikten sonra WebDriver'ı kapatın\n",
    "# driver.quit()"
   ]
  },
  {
   "cell_type": "code",
   "execution_count": 88,
   "id": "b0d35d55-59b9-4472-8b5a-4efcd8792e81",
   "metadata": {},
   "outputs": [],
   "source": [
    "def login():\n",
    "\n",
    "    username = driver.find_element(By.XPATH, '//input[@aria-label=\"Phone number, username, or email\"]') \n",
    "    username.send_keys(\"klye_jenter\")\n",
    "    time.sleep(1)\n",
    "    \n",
    "    password = driver.find_element(By.XPATH, '//input[@aria-label=\"Password\"]')\n",
    "    password.send_keys(\"B.eko2147\")\n",
    "    time.sleep(1)\n",
    "    \n",
    "    login = driver.find_element(By.XPATH, '//button[@type=\"submit\"]').click()\n",
    "     \n",
    "    WebDriverWait(driver, 15).until(EC.presence_of_element_located((By.CSS_SELECTOR , \".x1lliihq.x193iq5w.x6ikm8r.x10wlt62.xlyipyv.xuxw1ft\")))\n",
    "    \n",
    "    redirect_page = driver.get(\"https://www.instagram.com/muzikanalisti/?hl=en\")\n",
    "login()\n"
   ]
  },
  {
   "cell_type": "code",
   "execution_count": 196,
   "id": "10201835-c61f-452d-ac7c-1049df518009",
   "metadata": {},
   "outputs": [
    {
     "data": {
      "text/plain": [
       "'48'"
      ]
     },
     "execution_count": 196,
     "metadata": {},
     "output_type": "execute_result"
    }
   ],
   "source": [
    "total_post_number = driver.find_element(By.CSS_SELECTOR , \".x5n08af.x1s688f\").text\n",
    "total_post_number"
   ]
  },
  {
   "cell_type": "code",
   "execution_count": 377,
   "id": "257e8567-8bde-4d17-9241-1e252989bba5",
   "metadata": {},
   "outputs": [],
   "source": [
    "def check_more_comment(elements):\n",
    "    \n",
    "    driver.implicitly_wait(2)\n",
    "    my_element = driver.find_elements(By.XPATH , elements)\n",
    "\n",
    "    more_content = drive.find_elements(By.XPATH , '//*[name()=\"svg\"]//*[name()=\"title\" and text()=\"Load more comments\"]/ancestor::*[name()=\"svg\"]'\n",
    "\n",
    "    if(len(my_element) > 0 :\n",
    "\n",
    "       more_content.click()\n",
    "        \n",
    "    return 1 if(len(my_element) > 0) else 0\n",
    "\n",
    "check_more_comment('//*[name()=\"svg\"]//*[name()=\"title\" and text()=\"Load more comments\"]/ancestor::*[name()=\"svg\"]')"
   ]
  },
  {
   "cell_type": "code",
   "execution_count": 301,
   "id": "2bfaa068-37f0-4072-ae39-3e276052feb0",
   "metadata": {},
   "outputs": [],
   "source": [
    "click_first_post = driver.find_element(By.CSS_SELECTOR , \".x1lliihq.x1n2onr6.xh8yej3.x4gyw5p.x14z9mp.xzj7kzq.xbipx2v.x1j53mea\").click()"
   ]
  },
  {
   "cell_type": "code",
   "execution_count": 361,
   "id": "ec8a9603-552e-48e7-9f99-fa0436aef84d",
   "metadata": {},
   "outputs": [],
   "source": [
    "text = driver.find_elements(By.CSS_SELECTOR , \"._ap3a._aaco._aacu._aacx._aad7._aade\")"
   ]
  },
  {
   "cell_type": "code",
   "execution_count": 379,
   "id": "75461076-69fe-4264-9287-28ec8f5c5091",
   "metadata": {},
   "outputs": [
    {
     "data": {
      "text/plain": [
       "35"
      ]
     },
     "execution_count": 379,
     "metadata": {},
     "output_type": "execute_result"
    }
   ],
   "source": [
    "len(text)"
   ]
  },
  {
   "cell_type": "code",
   "execution_count": 367,
   "id": "46027692-00c5-4161-b6ae-db065bdc8b8c",
   "metadata": {},
   "outputs": [
    {
     "data": {
      "text/plain": [
       "'Evet bi boş daha'"
      ]
     },
     "execution_count": 367,
     "metadata": {},
     "output_type": "execute_result"
    }
   ],
   "source": [
    "text[34].text"
   ]
  },
  {
   "cell_type": "code",
   "execution_count": 357,
   "id": "650a7f7d-639d-4068-bb6d-9754dbd0e8a3",
   "metadata": {},
   "outputs": [
    {
     "data": {
      "text/plain": [
       "0"
      ]
     },
     "execution_count": 357,
     "metadata": {},
     "output_type": "execute_result"
    }
   ],
   "source": [
    "def check_more_comment(elements):\n",
    "    \n",
    "    driver.implicitly_wait(2)\n",
    "    my_element = driver.find_elements(By.XPATH , elements)\n",
    "    return 1 if(len(my_element) > 0) else 0\n",
    "\n",
    "check_more_comment('//*[name()=\"svg\"]//*[name()=\"title\" and text()=\"Load more comments\"]/ancestor::*[name()=\"svg\"]')"
   ]
  },
  {
   "cell_type": "code",
   "execution_count": 172,
   "id": "3cdff6fd-9700-4b0c-80af-d7349edbfc69",
   "metadata": {},
   "outputs": [
    {
     "data": {
      "text/plain": [
       "0"
      ]
     },
     "execution_count": 172,
     "metadata": {},
     "output_type": "execute_result"
    }
   ],
   "source": [
    "def check_next_button(elements):\n",
    "    driver.implicitly_wait(2)\n",
    "    my_element = driver.find_elements(By.CSS_SELECTOR , elements)\n",
    "    return 1 if(len(my_element) > 0) else 0\n",
    "\n",
    "check_next_button(\"._aaqg._aaqh\")"
   ]
  },
  {
   "cell_type": "code",
   "execution_count": 184,
   "id": "f8a96424-9f48-4de2-b18c-df2f3498e796",
   "metadata": {},
   "outputs": [
    {
     "name": "stdout",
     "output_type": "stream",
     "text": [
      "COngrat\n"
     ]
    }
   ],
   "source": [
    "if(check_next_button(\"._aaqg._aaqh\")>0):\n",
    "    print(\"COngrat\")\n",
    "else:\n",
    "    print(\"check\")"
   ]
  },
  {
   "cell_type": "code",
   "execution_count": 6,
   "id": "a56a1715-126b-4c08-8c3c-a1f0b8c15136",
   "metadata": {},
   "outputs": [
    {
     "name": "stdout",
     "output_type": "stream",
     "text": [
      "TEST\n"
     ]
    }
   ],
   "source": [
    "print(\"TEST\")"
   ]
  },
  {
   "cell_type": "code",
   "execution_count": 11,
   "id": "cd9489ea-0f00-4d68-a856-8c256e310865",
   "metadata": {},
   "outputs": [
    {
     "name": "stdout",
     "output_type": "stream",
     "text": [
      "Son Kontrol\n"
     ]
    }
   ],
   "source": [
    "print(\"Son Kontrol\")"
   ]
  },
  {
   "cell_type": "code",
   "execution_count": 14,
   "id": "bf115aff-9cbc-41ca-b0f7-d8af484cfc03",
   "metadata": {},
   "outputs": [
    {
     "name": "stdout",
     "output_type": "stream",
     "text": [
      "Son Kontrol\n"
     ]
    }
   ],
   "source": [
    "print(\"Son Kontrol\")"
   ]
  },
  {
   "cell_type": "code",
   "execution_count": null,
   "id": "6bbdd29a-4016-4dd2-9e4a-adb6d885ce8b",
   "metadata": {},
   "outputs": [],
   "source": []
  }
 ],
 "metadata": {
  "kernelspec": {
   "display_name": "Python [conda env:base] *",
   "language": "python",
   "name": "conda-base-py"
  },
  "language_info": {
   "codemirror_mode": {
    "name": "ipython",
    "version": 3
   },
   "file_extension": ".py",
   "mimetype": "text/x-python",
   "name": "python",
   "nbconvert_exporter": "python",
   "pygments_lexer": "ipython3",
   "version": "3.12.7"
  }
 },
 "nbformat": 4,
 "nbformat_minor": 5
}
