{
 "cells": [
  {
   "cell_type": "code",
   "execution_count": 74,
   "id": "8ddd9a37-dd9f-4bd6-87a2-d0fc465d381e",
   "metadata": {},
   "outputs": [],
   "source": [
    "import requests\n",
    "import pandas as pd\n",
    "import numpy as np\n",
    "import time\n",
    "import random\n",
    "import string\n",
    "import warnings\n",
    "\n",
    "\n",
    "import os\n",
    "from selenium import webdriver\n",
    "from selenium.webdriver.chrome.service import Service as ChromeService\n",
    "from selenium.webdriver.chrome.options import Options\n",
    "from webdriver_manager.chrome import ChromeDriverManager\n",
    "\n",
    "\n",
    "from datetime import datetime\n",
    "from selenium import webdriver\n",
    "from selenium.webdriver.common.keys import Keys\n",
    "from selenium.webdriver.support.select import Select\n",
    "from selenium.webdriver.support.ui import Select\n",
    "from functools import cache,lru_cache\n",
    "\n",
    "from selenium.webdriver.support.ui import WebDriverWait\n",
    "\n",
    "from selenium.webdriver.common.action_chains import ActionChains\n",
    "\n",
    "from selenium import webdriver\n",
    "from selenium.webdriver.common.by import By\n",
    "from selenium.webdriver.support.ui import WebDriverWait\n",
    "from selenium.webdriver.support import expected_conditions as EC\n",
    "\n",
    "warnings.filterwarnings('ignore') # Uyarıları Kaldır.\n",
    "\n",
    "pd.set_option('display.max_rows', None) # Data Frame için tabloların hepsini göster.\n",
    "\n",
    "\n",
    "import chromedriver_autoinstaller \n",
    "\n",
    "\n",
    "import numpy as np\n",
    "import time\n",
    "import warnings\n",
    "\n",
    "\n",
    "from selenium.webdriver.support.select import Select\n",
    "from selenium.webdriver.support.ui import Select\n",
    "from selenium.webdriver.common.by import By\n",
    "from selenium.webdriver.support.wait import WebDriverWait\n",
    "from selenium.webdriver.support import expected_conditions as EC\n",
    "\n",
    "\n",
    "from selenium.webdriver.chrome.service import Service\n",
    "\n",
    "import chromedriver_autoinstaller \n",
    "\n",
    "warnings.filterwarnings('ignore') # Uyarıları Kaldır.\n",
    "import pyperclip"
   ]
  },
  {
   "cell_type": "code",
   "execution_count": 76,
   "id": "0b571a2c-f6d1-4dbb-a335-f69ce78f5347",
   "metadata": {},
   "outputs": [],
   "source": [
    "def open_trendyol_login():\n",
    "    # Chrome seçeneklerini ayarlayın\n",
    "    options = Options()\n",
    "    options.add_experimental_option(\"useAutomationExtension\", False)\n",
    "    options.add_argument(\"--disable-blink-features\")\n",
    "    options.add_argument(\"--disable-blink-features=AutomationControlled\")\n",
    "    options.add_experimental_option(\"excludeSwitches\", [\"enable-automation\"])\n",
    "\n",
    "    # Şifre yöneticisini devre dışı bırakın\n",
    "    prefs = {\"credentials_enable_service\": False, \"profile.password_manager_enabled\": False}\n",
    "    options.add_experimental_option(\"prefs\", prefs)\n",
    "\n",
    "    # Adblock uzantısının yolunu ekleyin\n",
    "    # path_block = r\"C:\\Users\\testinium\\AppData\\Local\\Google\\Chrome\\User Data\\Profile 2\\Extensions\\Adblock.crx\"\n",
    "    # options.add_extension(path_block)\n",
    "\n",
    "    # WebDriver'ı başlatın\n",
    "    chromedriver_path =\"C:\\Program Files (x86)\\chromedriver.exe\"\n",
    "    driver = webdriver.Chrome(service=ChromeService(chromedriver_path), options=options)\n",
    "\n",
    "    # Kullanıcı ajanını değiştirin\n",
    "    chrome_user_agents = [\n",
    "        \"Mozilla/5.0 (Windows NT 10.0; Win64; x64) AppleWebKit/537.36 (KHTML, like Gecko) Chrome/83.0.4103.97 Safari/537.36\",\n",
    "        \"Mozilla/5.0 (Windows NT 10.0; Win64; x64) AppleWebKit/537.36 (KHTML, like Gecko) Chrome/91.0.4472.124 Safari/537.36\",\n",
    "        \"Mozilla/5.0 (Macintosh; Intel Mac OS X 10_15_7) AppleWebKit/537.36 (KHTML, like Gecko) Chrome/91.0.4472.124 Safari/537.36\",\n",
    "        \"Mozilla/5.0 (Windows NT 10.0; Win64; x64) AppleWebKit/537.36 (KHTML, like Gecko) Chrome/89.0.4389.90 Safari/537.36\",\n",
    "        \"Mozilla/5.0 (Macintosh; Intel Mac OS X 10_15_7) AppleWebKit/537.36 (KHTML, like Gecko) Chrome/90.0.4430.212 Safari/537.36\"\n",
    "    ]\n",
    "    random_user_agent = random.choice(chrome_user_agents)\n",
    "    driver.execute_script(f\"navigator.__defineGetter__('userAgent', function() {{ return '{random_user_agent}'; }})\")\n",
    "    # navigator.webdriver özelliğini undefined olarak ayarlayın\n",
    "    driver.execute_script(\"Object.defineProperty(navigator, 'webdriver', {get: () => undefined})\")\n",
    "\n",
    "    time.sleep(2)\n",
    "\n",
    "    # Belirtilen URL'yi açın ve sayfayı yenileyin\n",
    "    driver.get(\"https://www.instagram.com/accounts/login/?hl=en\")\n",
    "    driver.refresh()\n",
    "\n",
    "    driver.maximize_window()\n",
    "\n",
    "    return driver\n",
    "\n",
    "# WebDriver'ı dışarıda başlatın\n",
    "driver = open_trendyol_login()\n",
    "\n",
    "# işlemleriniz bittikten sonra WebDriver'ı kapatın\n",
    "# driver.quit()"
   ]
  },
  {
   "cell_type": "code",
   "execution_count": 88,
   "id": "b0d35d55-59b9-4472-8b5a-4efcd8792e81",
   "metadata": {},
   "outputs": [],
   "source": [
    "def login():\n",
    "\n",
    "    username = driver.find_element(By.XPATH, '//input[@aria-label=\"Phone number, username, or email\"]') \n",
    "    username.send_keys(\"klye_jenter\")\n",
    "    time.sleep(1)\n",
    "    \n",
    "    password = driver.find_element(By.XPATH, '//input[@aria-label=\"Password\"]')\n",
    "    password.send_keys(\"B.eko2147\")\n",
    "    time.sleep(1)\n",
    "    \n",
    "    login = driver.find_element(By.XPATH, '//button[@type=\"submit\"]').click()\n",
    "     \n",
    "    WebDriverWait(driver, 15).until(EC.presence_of_element_located((By.CSS_SELECTOR , \".x1lliihq.x193iq5w.x6ikm8r.x10wlt62.xlyipyv.xuxw1ft\")))\n",
    "    \n",
    "    redirect_page = driver.get(\"https://www.instagram.com/muzikanalisti/?hl=en\")\n",
    "login()\n"
   ]
  },
  {
   "cell_type": "code",
   "execution_count": 196,
   "id": "10201835-c61f-452d-ac7c-1049df518009",
   "metadata": {},
   "outputs": [
    {
     "data": {
      "text/plain": [
       "'48'"
      ]
     },
     "execution_count": 196,
     "metadata": {},
     "output_type": "execute_result"
    }
   ],
   "source": [
    "total_post_number = driver.find_element(By.CSS_SELECTOR , \".x5n08af.x1s688f\").text\n",
    "total_post_number"
   ]
  },
  {
   "cell_type": "code",
   "execution_count": 377,
   "id": "257e8567-8bde-4d17-9241-1e252989bba5",
   "metadata": {},
   "outputs": [],
   "source": [
    "def check_more_comment(elements):\n",
    "    \n",
    "    driver.implicitly_wait(2)\n",
    "    my_element = driver.find_elements(By.XPATH , elements)\n",
    "\n",
    "    more_content = drive.find_elements(By.XPATH , '//*[name()=\"svg\"]//*[name()=\"title\" and text()=\"Load more comments\"]/ancestor::*[name()=\"svg\"]'\n",
    "\n",
    "    if(len(my_element) > 0 :\n",
    "\n",
    "       more_content.click()\n",
    "        \n",
    "    return 1 if(len(my_element) > 0) else 0\n",
    "\n",
    "check_more_comment('//*[name()=\"svg\"]//*[name()=\"title\" and text()=\"Load more comments\"]/ancestor::*[name()=\"svg\"]')"
   ]
  },
  {
   "cell_type": "code",
   "execution_count": 301,
   "id": "2bfaa068-37f0-4072-ae39-3e276052feb0",
   "metadata": {},
   "outputs": [],
   "source": [
    "click_first_post = driver.find_element(By.CSS_SELECTOR , \".x1lliihq.x1n2onr6.xh8yej3.x4gyw5p.x14z9mp.xzj7kzq.xbipx2v.x1j53mea\").click()"
   ]
  },
  {
   "cell_type": "code",
   "execution_count": 361,
   "id": "ec8a9603-552e-48e7-9f99-fa0436aef84d",
   "metadata": {},
   "outputs": [],
   "source": [
    "text = driver.find_elements(By.CSS_SELECTOR , \"._ap3a._aaco._aacu._aacx._aad7._aade\")"
   ]
  },
  {
   "cell_type": "code",
   "execution_count": 379,
   "id": "75461076-69fe-4264-9287-28ec8f5c5091",
   "metadata": {},
   "outputs": [
    {
     "data": {
      "text/plain": [
       "35"
      ]
     },
     "execution_count": 379,
     "metadata": {},
     "output_type": "execute_result"
    }
   ],
   "source": [
    "len(text)"
   ]
  },
  {
   "cell_type": "code",
   "execution_count": 367,
   "id": "46027692-00c5-4161-b6ae-db065bdc8b8c",
   "metadata": {},
   "outputs": [
    {
     "data": {
      "text/plain": [
       "'Evet bi boş daha'"
      ]
     },
     "execution_count": 367,
     "metadata": {},
     "output_type": "execute_result"
    }
   ],
   "source": [
    "text[34].text"
   ]
  },
  {
   "cell_type": "code",
   "execution_count": 357,
   "id": "650a7f7d-639d-4068-bb6d-9754dbd0e8a3",
   "metadata": {},
   "outputs": [
    {
     "data": {
      "text/plain": [
       "0"
      ]
     },
     "execution_count": 357,
     "metadata": {},
     "output_type": "execute_result"
    }
   ],
   "source": [
    "def check_more_comment(elements):\n",
    "    \n",
    "    driver.implicitly_wait(2)\n",
    "    my_element = driver.find_elements(By.XPATH , elements)\n",
    "    return 1 if(len(my_element) > 0) else 0\n",
    "\n",
    "check_more_comment('//*[name()=\"svg\"]//*[name()=\"title\" and text()=\"Load more comments\"]/ancestor::*[name()=\"svg\"]')"
   ]
  },
  {
   "cell_type": "code",
   "execution_count": 359,
   "id": "0e202545-424f-453b-90c9-0eddb56db3fd",
   "metadata": {},
   "outputs": [
    {
     "ename": "NoSuchElementException",
     "evalue": "Message: no such element: Unable to locate element: {\"method\":\"xpath\",\"selector\":\"//*[name()=\"svg\"]//*[name()=\"title\" and text()=\"Load more comments\"]/ancestor::*[name()=\"svg\"]\"}\n  (Session info: chrome=137.0.7151.120); For documentation on this error, please visit: https://www.selenium.dev/documentation/webdriver/troubleshooting/errors#no-such-element-exception\nStacktrace:\n\tGetHandleVerifier [0x0x7ff60ecc6f65+78965]\n\tGetHandleVerifier [0x0x7ff60ecc6fc0+79056]\n\t(No symbol) [0x0x7ff60ea59dda]\n\t(No symbol) [0x0x7ff60eab02ea]\n\t(No symbol) [0x0x7ff60eab059c]\n\t(No symbol) [0x0x7ff60eb03f37]\n\t(No symbol) [0x0x7ff60ead86af]\n\t(No symbol) [0x0x7ff60eb00dbe]\n\t(No symbol) [0x0x7ff60ead8443]\n\t(No symbol) [0x0x7ff60eaa1311]\n\t(No symbol) [0x0x7ff60eaa20a3]\n\tGetHandleVerifier [0x0x7ff60ef7e26d+2926461]\n\tGetHandleVerifier [0x0x7ff60ef78993+2903715]\n\tGetHandleVerifier [0x0x7ff60ef96aed+3026941]\n\tGetHandleVerifier [0x0x7ff60ece16fe+187406]\n\tGetHandleVerifier [0x0x7ff60ece96ef+220159]\n\tGetHandleVerifier [0x0x7ff60eccfaf4+114692]\n\tGetHandleVerifier [0x0x7ff60eccfca9+115129]\n\tGetHandleVerifier [0x0x7ff60ecb64d8+10728]\n\tBaseThreadInitThunk [0x0x7fff12637374+20]\n\tRtlUserThreadStart [0x0x7fff1277cc91+33]\n",
     "output_type": "error",
     "traceback": [
      "\u001b[1;31m---------------------------------------------------------------------------\u001b[0m",
      "\u001b[1;31mNoSuchElementException\u001b[0m                    Traceback (most recent call last)",
      "Cell \u001b[1;32mIn[359], line 1\u001b[0m\n\u001b[1;32m----> 1\u001b[0m svg_button \u001b[38;5;241m=\u001b[39m driver\u001b[38;5;241m.\u001b[39mfind_element(By\u001b[38;5;241m.\u001b[39mXPATH,\u001b[38;5;124m'\u001b[39m\u001b[38;5;124m//*[name()=\u001b[39m\u001b[38;5;124m\"\u001b[39m\u001b[38;5;124msvg\u001b[39m\u001b[38;5;124m\"\u001b[39m\u001b[38;5;124m]//*[name()=\u001b[39m\u001b[38;5;124m\"\u001b[39m\u001b[38;5;124mtitle\u001b[39m\u001b[38;5;124m\"\u001b[39m\u001b[38;5;124m and text()=\u001b[39m\u001b[38;5;124m\"\u001b[39m\u001b[38;5;124mLoad more comments\u001b[39m\u001b[38;5;124m\"\u001b[39m\u001b[38;5;124m]/ancestor::*[name()=\u001b[39m\u001b[38;5;124m\"\u001b[39m\u001b[38;5;124msvg\u001b[39m\u001b[38;5;124m\"\u001b[39m\u001b[38;5;124m]\u001b[39m\u001b[38;5;124m'\u001b[39m)\u001b[38;5;241m.\u001b[39mclick()\n",
      "File \u001b[1;32m~\\AppData\\Local\\anaconda3\\Lib\\site-packages\\selenium\\webdriver\\remote\\webdriver.py:770\u001b[0m, in \u001b[0;36mWebDriver.find_element\u001b[1;34m(self, by, value)\u001b[0m\n\u001b[0;32m    767\u001b[0m         \u001b[38;5;28;01mraise\u001b[39;00m NoSuchElementException(\u001b[38;5;124mf\u001b[39m\u001b[38;5;124m\"\u001b[39m\u001b[38;5;124mCannot locate relative element with: \u001b[39m\u001b[38;5;132;01m{\u001b[39;00mby\u001b[38;5;241m.\u001b[39mroot\u001b[38;5;132;01m}\u001b[39;00m\u001b[38;5;124m\"\u001b[39m)\n\u001b[0;32m    768\u001b[0m     \u001b[38;5;28;01mreturn\u001b[39;00m elements[\u001b[38;5;241m0\u001b[39m]\n\u001b[1;32m--> 770\u001b[0m \u001b[38;5;28;01mreturn\u001b[39;00m \u001b[38;5;28mself\u001b[39m\u001b[38;5;241m.\u001b[39mexecute(Command\u001b[38;5;241m.\u001b[39mFIND_ELEMENT, {\u001b[38;5;124m\"\u001b[39m\u001b[38;5;124musing\u001b[39m\u001b[38;5;124m\"\u001b[39m: by, \u001b[38;5;124m\"\u001b[39m\u001b[38;5;124mvalue\u001b[39m\u001b[38;5;124m\"\u001b[39m: value})[\u001b[38;5;124m\"\u001b[39m\u001b[38;5;124mvalue\u001b[39m\u001b[38;5;124m\"\u001b[39m]\n",
      "File \u001b[1;32m~\\AppData\\Local\\anaconda3\\Lib\\site-packages\\selenium\\webdriver\\remote\\webdriver.py:384\u001b[0m, in \u001b[0;36mWebDriver.execute\u001b[1;34m(self, driver_command, params)\u001b[0m\n\u001b[0;32m    382\u001b[0m response \u001b[38;5;241m=\u001b[39m \u001b[38;5;28mself\u001b[39m\u001b[38;5;241m.\u001b[39mcommand_executor\u001b[38;5;241m.\u001b[39mexecute(driver_command, params)\n\u001b[0;32m    383\u001b[0m \u001b[38;5;28;01mif\u001b[39;00m response:\n\u001b[1;32m--> 384\u001b[0m     \u001b[38;5;28mself\u001b[39m\u001b[38;5;241m.\u001b[39merror_handler\u001b[38;5;241m.\u001b[39mcheck_response(response)\n\u001b[0;32m    385\u001b[0m     response[\u001b[38;5;124m\"\u001b[39m\u001b[38;5;124mvalue\u001b[39m\u001b[38;5;124m\"\u001b[39m] \u001b[38;5;241m=\u001b[39m \u001b[38;5;28mself\u001b[39m\u001b[38;5;241m.\u001b[39m_unwrap_value(response\u001b[38;5;241m.\u001b[39mget(\u001b[38;5;124m\"\u001b[39m\u001b[38;5;124mvalue\u001b[39m\u001b[38;5;124m\"\u001b[39m, \u001b[38;5;28;01mNone\u001b[39;00m))\n\u001b[0;32m    386\u001b[0m     \u001b[38;5;28;01mreturn\u001b[39;00m response\n",
      "File \u001b[1;32m~\\AppData\\Local\\anaconda3\\Lib\\site-packages\\selenium\\webdriver\\remote\\errorhandler.py:232\u001b[0m, in \u001b[0;36mErrorHandler.check_response\u001b[1;34m(self, response)\u001b[0m\n\u001b[0;32m    230\u001b[0m         alert_text \u001b[38;5;241m=\u001b[39m value[\u001b[38;5;124m\"\u001b[39m\u001b[38;5;124malert\u001b[39m\u001b[38;5;124m\"\u001b[39m]\u001b[38;5;241m.\u001b[39mget(\u001b[38;5;124m\"\u001b[39m\u001b[38;5;124mtext\u001b[39m\u001b[38;5;124m\"\u001b[39m)\n\u001b[0;32m    231\u001b[0m     \u001b[38;5;28;01mraise\u001b[39;00m exception_class(message, screen, stacktrace, alert_text)  \u001b[38;5;66;03m# type: ignore[call-arg]  # mypy is not smart enough here\u001b[39;00m\n\u001b[1;32m--> 232\u001b[0m \u001b[38;5;28;01mraise\u001b[39;00m exception_class(message, screen, stacktrace)\n",
      "\u001b[1;31mNoSuchElementException\u001b[0m: Message: no such element: Unable to locate element: {\"method\":\"xpath\",\"selector\":\"//*[name()=\"svg\"]//*[name()=\"title\" and text()=\"Load more comments\"]/ancestor::*[name()=\"svg\"]\"}\n  (Session info: chrome=137.0.7151.120); For documentation on this error, please visit: https://www.selenium.dev/documentation/webdriver/troubleshooting/errors#no-such-element-exception\nStacktrace:\n\tGetHandleVerifier [0x0x7ff60ecc6f65+78965]\n\tGetHandleVerifier [0x0x7ff60ecc6fc0+79056]\n\t(No symbol) [0x0x7ff60ea59dda]\n\t(No symbol) [0x0x7ff60eab02ea]\n\t(No symbol) [0x0x7ff60eab059c]\n\t(No symbol) [0x0x7ff60eb03f37]\n\t(No symbol) [0x0x7ff60ead86af]\n\t(No symbol) [0x0x7ff60eb00dbe]\n\t(No symbol) [0x0x7ff60ead8443]\n\t(No symbol) [0x0x7ff60eaa1311]\n\t(No symbol) [0x0x7ff60eaa20a3]\n\tGetHandleVerifier [0x0x7ff60ef7e26d+2926461]\n\tGetHandleVerifier [0x0x7ff60ef78993+2903715]\n\tGetHandleVerifier [0x0x7ff60ef96aed+3026941]\n\tGetHandleVerifier [0x0x7ff60ece16fe+187406]\n\tGetHandleVerifier [0x0x7ff60ece96ef+220159]\n\tGetHandleVerifier [0x0x7ff60eccfaf4+114692]\n\tGetHandleVerifier [0x0x7ff60eccfca9+115129]\n\tGetHandleVerifier [0x0x7ff60ecb64d8+10728]\n\tBaseThreadInitThunk [0x0x7fff12637374+20]\n\tRtlUserThreadStart [0x0x7fff1277cc91+33]\n"
     ]
    }
   ],
   "source": []
  },
  {
   "cell_type": "code",
   "execution_count": 172,
   "id": "3cdff6fd-9700-4b0c-80af-d7349edbfc69",
   "metadata": {},
   "outputs": [
    {
     "data": {
      "text/plain": [
       "0"
      ]
     },
     "execution_count": 172,
     "metadata": {},
     "output_type": "execute_result"
    }
   ],
   "source": [
    "def check_next_button(elements):\n",
    "    driver.implicitly_wait(2)\n",
    "    my_element = driver.find_elements(By.CSS_SELECTOR , elements)\n",
    "    return 1 if(len(my_element) > 0) else 0\n",
    "\n",
    "check_next_button(\"._aaqg._aaqh\")"
   ]
  },
  {
   "cell_type": "code",
   "execution_count": 184,
   "id": "f8a96424-9f48-4de2-b18c-df2f3498e796",
   "metadata": {},
   "outputs": [
    {
     "name": "stdout",
     "output_type": "stream",
     "text": [
      "COngrat\n"
     ]
    }
   ],
   "source": [
    "if(check_next_button(\"._aaqg._aaqh\")>0):\n",
    "    print(\"COngrat\")\n",
    "else:\n",
    "    print(\"check\")"
   ]
  },
  {
   "cell_type": "code",
   "execution_count": 2,
   "id": "5600ef3d-1ff4-4a1f-b509-48ad43eeda65",
   "metadata": {},
   "outputs": [
    {
     "name": "stdout",
     "output_type": "stream",
     "text": [
      "Collecting jupyterlab-git\n",
      "  Downloading jupyterlab_git-0.51.2-py3-none-any.whl.metadata (32 kB)\n",
      "Requirement already satisfied: jupyter-server<3,>=2.0.1 in c:\\users\\bekir.ondes\\appdata\\local\\anaconda3\\lib\\site-packages (from jupyterlab-git) (2.14.1)\n",
      "Collecting nbdime~=4.0.1 (from jupyterlab-git)\n",
      "  Downloading nbdime-4.0.2-py3-none-any.whl.metadata (9.5 kB)\n",
      "Requirement already satisfied: nbformat in c:\\users\\bekir.ondes\\appdata\\local\\anaconda3\\lib\\site-packages (from jupyterlab-git) (5.10.4)\n",
      "Requirement already satisfied: packaging in c:\\users\\bekir.ondes\\appdata\\local\\anaconda3\\lib\\site-packages (from jupyterlab-git) (24.1)\n",
      "Requirement already satisfied: pexpect in c:\\users\\bekir.ondes\\appdata\\local\\anaconda3\\lib\\site-packages (from jupyterlab-git) (4.8.0)\n",
      "Requirement already satisfied: traitlets~=5.0 in c:\\users\\bekir.ondes\\appdata\\local\\anaconda3\\lib\\site-packages (from jupyterlab-git) (5.14.3)\n",
      "Requirement already satisfied: anyio>=3.1.0 in c:\\users\\bekir.ondes\\appdata\\local\\anaconda3\\lib\\site-packages (from jupyter-server<3,>=2.0.1->jupyterlab-git) (4.2.0)\n",
      "Requirement already satisfied: argon2-cffi>=21.1 in c:\\users\\bekir.ondes\\appdata\\local\\anaconda3\\lib\\site-packages (from jupyter-server<3,>=2.0.1->jupyterlab-git) (21.3.0)\n",
      "Requirement already satisfied: jinja2>=3.0.3 in c:\\users\\bekir.ondes\\appdata\\local\\anaconda3\\lib\\site-packages (from jupyter-server<3,>=2.0.1->jupyterlab-git) (3.1.4)\n",
      "Requirement already satisfied: jupyter-client>=7.4.4 in c:\\users\\bekir.ondes\\appdata\\local\\anaconda3\\lib\\site-packages (from jupyter-server<3,>=2.0.1->jupyterlab-git) (8.6.0)\n",
      "Requirement already satisfied: jupyter-core!=5.0.*,>=4.12 in c:\\users\\bekir.ondes\\appdata\\local\\anaconda3\\lib\\site-packages (from jupyter-server<3,>=2.0.1->jupyterlab-git) (5.7.2)\n",
      "Requirement already satisfied: jupyter-events>=0.9.0 in c:\\users\\bekir.ondes\\appdata\\local\\anaconda3\\lib\\site-packages (from jupyter-server<3,>=2.0.1->jupyterlab-git) (0.10.0)\n",
      "Requirement already satisfied: jupyter-server-terminals>=0.4.4 in c:\\users\\bekir.ondes\\appdata\\local\\anaconda3\\lib\\site-packages (from jupyter-server<3,>=2.0.1->jupyterlab-git) (0.4.4)\n",
      "Requirement already satisfied: nbconvert>=6.4.4 in c:\\users\\bekir.ondes\\appdata\\local\\anaconda3\\lib\\site-packages (from jupyter-server<3,>=2.0.1->jupyterlab-git) (7.16.4)\n",
      "Requirement already satisfied: overrides>=5.0 in c:\\users\\bekir.ondes\\appdata\\local\\anaconda3\\lib\\site-packages (from jupyter-server<3,>=2.0.1->jupyterlab-git) (7.4.0)\n",
      "Requirement already satisfied: prometheus-client>=0.9 in c:\\users\\bekir.ondes\\appdata\\local\\anaconda3\\lib\\site-packages (from jupyter-server<3,>=2.0.1->jupyterlab-git) (0.14.1)\n",
      "Requirement already satisfied: pywinpty>=2.0.1 in c:\\users\\bekir.ondes\\appdata\\local\\anaconda3\\lib\\site-packages (from jupyter-server<3,>=2.0.1->jupyterlab-git) (2.0.10)\n",
      "Requirement already satisfied: pyzmq>=24 in c:\\users\\bekir.ondes\\appdata\\local\\anaconda3\\lib\\site-packages (from jupyter-server<3,>=2.0.1->jupyterlab-git) (25.1.2)\n",
      "Requirement already satisfied: send2trash>=1.8.2 in c:\\users\\bekir.ondes\\appdata\\local\\anaconda3\\lib\\site-packages (from jupyter-server<3,>=2.0.1->jupyterlab-git) (1.8.2)\n",
      "Requirement already satisfied: terminado>=0.8.3 in c:\\users\\bekir.ondes\\appdata\\local\\anaconda3\\lib\\site-packages (from jupyter-server<3,>=2.0.1->jupyterlab-git) (0.17.1)\n",
      "Requirement already satisfied: tornado>=6.2.0 in c:\\users\\bekir.ondes\\appdata\\local\\anaconda3\\lib\\site-packages (from jupyter-server<3,>=2.0.1->jupyterlab-git) (6.4.1)\n",
      "Requirement already satisfied: websocket-client>=1.7 in c:\\users\\bekir.ondes\\appdata\\local\\anaconda3\\lib\\site-packages (from jupyter-server<3,>=2.0.1->jupyterlab-git) (1.8.0)\n",
      "Requirement already satisfied: colorama in c:\\users\\bekir.ondes\\appdata\\local\\anaconda3\\lib\\site-packages (from nbdime~=4.0.1->jupyterlab-git) (0.4.6)\n",
      "Requirement already satisfied: gitpython!=2.1.4,!=2.1.5,!=2.1.6 in c:\\users\\bekir.ondes\\appdata\\local\\anaconda3\\lib\\site-packages (from nbdime~=4.0.1->jupyterlab-git) (3.1.43)\n",
      "Collecting jupyter-server-mathjax>=0.2.2 (from nbdime~=4.0.1->jupyterlab-git)\n",
      "  Downloading jupyter_server_mathjax-0.2.6-py3-none-any.whl.metadata (2.1 kB)\n",
      "Requirement already satisfied: pygments in c:\\users\\bekir.ondes\\appdata\\local\\anaconda3\\lib\\site-packages (from nbdime~=4.0.1->jupyterlab-git) (2.15.1)\n",
      "Requirement already satisfied: requests in c:\\users\\bekir.ondes\\appdata\\local\\anaconda3\\lib\\site-packages (from nbdime~=4.0.1->jupyterlab-git) (2.32.3)\n",
      "Requirement already satisfied: fastjsonschema>=2.15 in c:\\users\\bekir.ondes\\appdata\\local\\anaconda3\\lib\\site-packages (from nbformat->jupyterlab-git) (2.16.2)\n",
      "Requirement already satisfied: jsonschema>=2.6 in c:\\users\\bekir.ondes\\appdata\\local\\anaconda3\\lib\\site-packages (from nbformat->jupyterlab-git) (4.23.0)\n",
      "Requirement already satisfied: ptyprocess>=0.5 in c:\\users\\bekir.ondes\\appdata\\local\\anaconda3\\lib\\site-packages (from pexpect->jupyterlab-git) (0.7.0)\n",
      "Requirement already satisfied: idna>=2.8 in c:\\users\\bekir.ondes\\appdata\\local\\anaconda3\\lib\\site-packages (from anyio>=3.1.0->jupyter-server<3,>=2.0.1->jupyterlab-git) (3.7)\n",
      "Requirement already satisfied: sniffio>=1.1 in c:\\users\\bekir.ondes\\appdata\\local\\anaconda3\\lib\\site-packages (from anyio>=3.1.0->jupyter-server<3,>=2.0.1->jupyterlab-git) (1.3.0)\n",
      "Requirement already satisfied: argon2-cffi-bindings in c:\\users\\bekir.ondes\\appdata\\local\\anaconda3\\lib\\site-packages (from argon2-cffi>=21.1->jupyter-server<3,>=2.0.1->jupyterlab-git) (21.2.0)\n",
      "Requirement already satisfied: gitdb<5,>=4.0.1 in c:\\users\\bekir.ondes\\appdata\\local\\anaconda3\\lib\\site-packages (from gitpython!=2.1.4,!=2.1.5,!=2.1.6->nbdime~=4.0.1->jupyterlab-git) (4.0.7)\n",
      "Requirement already satisfied: MarkupSafe>=2.0 in c:\\users\\bekir.ondes\\appdata\\local\\anaconda3\\lib\\site-packages (from jinja2>=3.0.3->jupyter-server<3,>=2.0.1->jupyterlab-git) (2.1.3)\n",
      "Requirement already satisfied: attrs>=22.2.0 in c:\\users\\bekir.ondes\\appdata\\local\\anaconda3\\lib\\site-packages (from jsonschema>=2.6->nbformat->jupyterlab-git) (24.2.0)\n",
      "Requirement already satisfied: jsonschema-specifications>=2023.03.6 in c:\\users\\bekir.ondes\\appdata\\local\\anaconda3\\lib\\site-packages (from jsonschema>=2.6->nbformat->jupyterlab-git) (2023.7.1)\n",
      "Requirement already satisfied: referencing>=0.28.4 in c:\\users\\bekir.ondes\\appdata\\local\\anaconda3\\lib\\site-packages (from jsonschema>=2.6->nbformat->jupyterlab-git) (0.30.2)\n",
      "Requirement already satisfied: rpds-py>=0.7.1 in c:\\users\\bekir.ondes\\appdata\\local\\anaconda3\\lib\\site-packages (from jsonschema>=2.6->nbformat->jupyterlab-git) (0.10.6)\n",
      "Requirement already satisfied: python-dateutil>=2.8.2 in c:\\users\\bekir.ondes\\appdata\\local\\anaconda3\\lib\\site-packages (from jupyter-client>=7.4.4->jupyter-server<3,>=2.0.1->jupyterlab-git) (2.9.0.post0)\n",
      "Requirement already satisfied: platformdirs>=2.5 in c:\\users\\bekir.ondes\\appdata\\local\\anaconda3\\lib\\site-packages (from jupyter-core!=5.0.*,>=4.12->jupyter-server<3,>=2.0.1->jupyterlab-git) (3.10.0)\n",
      "Requirement already satisfied: pywin32>=300 in c:\\users\\bekir.ondes\\appdata\\local\\anaconda3\\lib\\site-packages (from jupyter-core!=5.0.*,>=4.12->jupyter-server<3,>=2.0.1->jupyterlab-git) (305.1)\n",
      "Requirement already satisfied: python-json-logger>=2.0.4 in c:\\users\\bekir.ondes\\appdata\\local\\anaconda3\\lib\\site-packages (from jupyter-events>=0.9.0->jupyter-server<3,>=2.0.1->jupyterlab-git) (2.0.7)\n",
      "Requirement already satisfied: pyyaml>=5.3 in c:\\users\\bekir.ondes\\appdata\\local\\anaconda3\\lib\\site-packages (from jupyter-events>=0.9.0->jupyter-server<3,>=2.0.1->jupyterlab-git) (6.0.1)\n",
      "Requirement already satisfied: rfc3339-validator in c:\\users\\bekir.ondes\\appdata\\local\\anaconda3\\lib\\site-packages (from jupyter-events>=0.9.0->jupyter-server<3,>=2.0.1->jupyterlab-git) (0.1.4)\n",
      "Requirement already satisfied: rfc3986-validator>=0.1.1 in c:\\users\\bekir.ondes\\appdata\\local\\anaconda3\\lib\\site-packages (from jupyter-events>=0.9.0->jupyter-server<3,>=2.0.1->jupyterlab-git) (0.1.1)\n",
      "Requirement already satisfied: beautifulsoup4 in c:\\users\\bekir.ondes\\appdata\\local\\anaconda3\\lib\\site-packages (from nbconvert>=6.4.4->jupyter-server<3,>=2.0.1->jupyterlab-git) (4.12.3)\n",
      "Requirement already satisfied: bleach!=5.0.0 in c:\\users\\bekir.ondes\\appdata\\local\\anaconda3\\lib\\site-packages (from nbconvert>=6.4.4->jupyter-server<3,>=2.0.1->jupyterlab-git) (4.1.0)\n",
      "Requirement already satisfied: defusedxml in c:\\users\\bekir.ondes\\appdata\\local\\anaconda3\\lib\\site-packages (from nbconvert>=6.4.4->jupyter-server<3,>=2.0.1->jupyterlab-git) (0.7.1)\n",
      "Requirement already satisfied: jupyterlab-pygments in c:\\users\\bekir.ondes\\appdata\\local\\anaconda3\\lib\\site-packages (from nbconvert>=6.4.4->jupyter-server<3,>=2.0.1->jupyterlab-git) (0.1.2)\n",
      "Requirement already satisfied: mistune<4,>=2.0.3 in c:\\users\\bekir.ondes\\appdata\\local\\anaconda3\\lib\\site-packages (from nbconvert>=6.4.4->jupyter-server<3,>=2.0.1->jupyterlab-git) (2.0.4)\n",
      "Requirement already satisfied: nbclient>=0.5.0 in c:\\users\\bekir.ondes\\appdata\\local\\anaconda3\\lib\\site-packages (from nbconvert>=6.4.4->jupyter-server<3,>=2.0.1->jupyterlab-git) (0.8.0)\n",
      "Requirement already satisfied: pandocfilters>=1.4.1 in c:\\users\\bekir.ondes\\appdata\\local\\anaconda3\\lib\\site-packages (from nbconvert>=6.4.4->jupyter-server<3,>=2.0.1->jupyterlab-git) (1.5.0)\n",
      "Requirement already satisfied: tinycss2 in c:\\users\\bekir.ondes\\appdata\\local\\anaconda3\\lib\\site-packages (from nbconvert>=6.4.4->jupyter-server<3,>=2.0.1->jupyterlab-git) (1.2.1)\n",
      "Requirement already satisfied: charset-normalizer<4,>=2 in c:\\users\\bekir.ondes\\appdata\\local\\anaconda3\\lib\\site-packages (from requests->nbdime~=4.0.1->jupyterlab-git) (3.3.2)\n",
      "Requirement already satisfied: urllib3<3,>=1.21.1 in c:\\users\\bekir.ondes\\appdata\\local\\anaconda3\\lib\\site-packages (from requests->nbdime~=4.0.1->jupyterlab-git) (2.2.3)\n",
      "Requirement already satisfied: certifi>=2017.4.17 in c:\\users\\bekir.ondes\\appdata\\local\\anaconda3\\lib\\site-packages (from requests->nbdime~=4.0.1->jupyterlab-git) (2024.8.30)\n",
      "Requirement already satisfied: six>=1.9.0 in c:\\users\\bekir.ondes\\appdata\\local\\anaconda3\\lib\\site-packages (from bleach!=5.0.0->nbconvert>=6.4.4->jupyter-server<3,>=2.0.1->jupyterlab-git) (1.16.0)\n",
      "Requirement already satisfied: webencodings in c:\\users\\bekir.ondes\\appdata\\local\\anaconda3\\lib\\site-packages (from bleach!=5.0.0->nbconvert>=6.4.4->jupyter-server<3,>=2.0.1->jupyterlab-git) (0.5.1)\n",
      "Requirement already satisfied: smmap<5,>=3.0.1 in c:\\users\\bekir.ondes\\appdata\\local\\anaconda3\\lib\\site-packages (from gitdb<5,>=4.0.1->gitpython!=2.1.4,!=2.1.5,!=2.1.6->nbdime~=4.0.1->jupyterlab-git) (4.0.0)\n",
      "Collecting fqdn (from jsonschema[format-nongpl]>=4.18.0->jupyter-events>=0.9.0->jupyter-server<3,>=2.0.1->jupyterlab-git)\n",
      "  Downloading fqdn-1.5.1-py3-none-any.whl.metadata (1.4 kB)\n",
      "Collecting isoduration (from jsonschema[format-nongpl]>=4.18.0->jupyter-events>=0.9.0->jupyter-server<3,>=2.0.1->jupyterlab-git)\n",
      "  Downloading isoduration-20.11.0-py3-none-any.whl.metadata (5.7 kB)\n",
      "Requirement already satisfied: jsonpointer>1.13 in c:\\users\\bekir.ondes\\appdata\\local\\anaconda3\\lib\\site-packages (from jsonschema[format-nongpl]>=4.18.0->jupyter-events>=0.9.0->jupyter-server<3,>=2.0.1->jupyterlab-git) (2.1)\n",
      "Collecting uri-template (from jsonschema[format-nongpl]>=4.18.0->jupyter-events>=0.9.0->jupyter-server<3,>=2.0.1->jupyterlab-git)\n",
      "  Downloading uri_template-1.3.0-py3-none-any.whl.metadata (8.8 kB)\n",
      "Collecting webcolors>=24.6.0 (from jsonschema[format-nongpl]>=4.18.0->jupyter-events>=0.9.0->jupyter-server<3,>=2.0.1->jupyterlab-git)\n",
      "  Downloading webcolors-24.11.1-py3-none-any.whl.metadata (2.2 kB)\n",
      "Requirement already satisfied: cffi>=1.0.1 in c:\\users\\bekir.ondes\\appdata\\local\\anaconda3\\lib\\site-packages (from argon2-cffi-bindings->argon2-cffi>=21.1->jupyter-server<3,>=2.0.1->jupyterlab-git) (1.17.1)\n",
      "Requirement already satisfied: soupsieve>1.2 in c:\\users\\bekir.ondes\\appdata\\local\\anaconda3\\lib\\site-packages (from beautifulsoup4->nbconvert>=6.4.4->jupyter-server<3,>=2.0.1->jupyterlab-git) (2.5)\n",
      "Requirement already satisfied: pycparser in c:\\users\\bekir.ondes\\appdata\\local\\anaconda3\\lib\\site-packages (from cffi>=1.0.1->argon2-cffi-bindings->argon2-cffi>=21.1->jupyter-server<3,>=2.0.1->jupyterlab-git) (2.21)\n",
      "Requirement already satisfied: arrow>=0.15.0 in c:\\users\\bekir.ondes\\appdata\\local\\anaconda3\\lib\\site-packages (from isoduration->jsonschema[format-nongpl]>=4.18.0->jupyter-events>=0.9.0->jupyter-server<3,>=2.0.1->jupyterlab-git) (1.2.3)\n",
      "Downloading jupyterlab_git-0.51.2-py3-none-any.whl (367 kB)\n",
      "Downloading nbdime-4.0.2-py3-none-any.whl (5.9 MB)\n",
      "   ---------------------------------------- 0.0/5.9 MB ? eta -:--:--\n",
      "   ----- ---------------------------------- 0.8/5.9 MB 4.8 MB/s eta 0:00:02\n",
      "   ------- -------------------------------- 1.0/5.9 MB 2.2 MB/s eta 0:00:03\n",
      "   --------------------- ------------------ 3.1/5.9 MB 5.4 MB/s eta 0:00:01\n",
      "   ------------------------------ --------- 4.5/5.9 MB 5.6 MB/s eta 0:00:01\n",
      "   -------------------------------------- - 5.8/5.9 MB 5.8 MB/s eta 0:00:01\n",
      "   ---------------------------------------- 5.9/5.9 MB 5.7 MB/s eta 0:00:00\n",
      "Downloading jupyter_server_mathjax-0.2.6-py3-none-any.whl (3.1 MB)\n",
      "   ---------------------------------------- 0.0/3.1 MB ? eta -:--:--\n",
      "   ------------- -------------------------- 1.0/3.1 MB 6.3 MB/s eta 0:00:01\n",
      "   --------------------------------- ------ 2.6/3.1 MB 6.3 MB/s eta 0:00:01\n",
      "   ---------------------------------------- 3.1/3.1 MB 6.3 MB/s eta 0:00:00\n",
      "Downloading webcolors-24.11.1-py3-none-any.whl (14 kB)\n",
      "Downloading fqdn-1.5.1-py3-none-any.whl (9.1 kB)\n",
      "Downloading isoduration-20.11.0-py3-none-any.whl (11 kB)\n",
      "Downloading uri_template-1.3.0-py3-none-any.whl (11 kB)\n",
      "Installing collected packages: webcolors, uri-template, fqdn, isoduration, jupyter-server-mathjax, nbdime, jupyterlab-git\n",
      "Successfully installed fqdn-1.5.1 isoduration-20.11.0 jupyter-server-mathjax-0.2.6 jupyterlab-git-0.51.2 nbdime-4.0.2 uri-template-1.3.0 webcolors-24.11.1\n",
      "Note: you may need to restart the kernel to use updated packages.\n"
     ]
    }
   ],
   "source": [
    "pip install jupyterlab-git\n"
   ]
  },
  {
   "cell_type": "code",
   "execution_count": 4,
   "id": "5e7082c0-1f09-4d90-997a-9be20365b4e8",
   "metadata": {},
   "outputs": [
    {
     "ename": "SyntaxError",
     "evalue": "invalid syntax (2485743006.py, line 1)",
     "output_type": "error",
     "traceback": [
      "\u001b[1;36m  Cell \u001b[1;32mIn[4], line 1\u001b[1;36m\u001b[0m\n\u001b[1;33m    jupyter lab build\u001b[0m\n\u001b[1;37m            ^\u001b[0m\n\u001b[1;31mSyntaxError\u001b[0m\u001b[1;31m:\u001b[0m invalid syntax\n"
     ]
    }
   ],
   "source": [
    "jupyter lab build"
   ]
  },
  {
   "cell_type": "code",
   "execution_count": 6,
   "id": "1d3dd340-ac0a-4875-a4de-eca6b15e5bc2",
   "metadata": {},
   "outputs": [
    {
     "name": "stdout",
     "output_type": "stream",
     "text": [
      "Note: you may need to restart the kernel to use updated packages.Requirement already satisfied: jupyterlab in c:\\users\\bekir.ondes\\appdata\\local\\anaconda3\\lib\\site-packages (4.2.5)\n",
      "Collecting jupyterlab\n",
      "  Downloading jupyterlab-4.4.3-py3-none-any.whl.metadata (16 kB)\n",
      "Requirement already satisfied: jupyterlab-git in c:\\users\\bekir.ondes\\appdata\\local\\anaconda3\\lib\\site-packages (0.51.2)\n",
      "Requirement already satisfied: async-lru>=1.0.0 in c:\\users\\bekir.ondes\\appdata\\local\\anaconda3\\lib\\site-packages (from jupyterlab) (2.0.4)\n",
      "Requirement already satisfied: httpx>=0.25.0 in c:\\users\\bekir.ondes\\appdata\\local\\anaconda3\\lib\\site-packages (from jupyterlab) (0.27.0)\n",
      "Requirement already satisfied: ipykernel>=6.5.0 in c:\\users\\bekir.ondes\\appdata\\local\\anaconda3\\lib\\site-packages (from jupyterlab) (6.28.0)\n",
      "Requirement already satisfied: jinja2>=3.0.3 in c:\\users\\bekir.ondes\\appdata\\local\\anaconda3\\lib\\site-packages (from jupyterlab) (3.1.4)\n",
      "Requirement already satisfied: jupyter-core in c:\\users\\bekir.ondes\\appdata\\local\\anaconda3\\lib\\site-packages (from jupyterlab) (5.7.2)\n",
      "Requirement already satisfied: jupyter-lsp>=2.0.0 in c:\\users\\bekir.ondes\\appdata\\local\\anaconda3\\lib\\site-packages (from jupyterlab) (2.2.0)\n",
      "Requirement already satisfied: jupyter-server<3,>=2.4.0 in c:\\users\\bekir.ondes\\appdata\\local\\anaconda3\\lib\\site-packages (from jupyterlab) (2.14.1)\n",
      "Requirement already satisfied: jupyterlab-server<3,>=2.27.1 in c:\\users\\bekir.ondes\\appdata\\local\\anaconda3\\lib\\site-packages (from jupyterlab) (2.27.3)\n",
      "Requirement already satisfied: notebook-shim>=0.2 in c:\\users\\bekir.ondes\\appdata\\local\\anaconda3\\lib\\site-packages (from jupyterlab) (0.2.3)\n",
      "Requirement already satisfied: packaging in c:\\users\\bekir.ondes\\appdata\\local\\anaconda3\\lib\\site-packages (from jupyterlab) (24.1)\n",
      "Requirement already satisfied: setuptools>=41.1.0 in c:\\users\\bekir.ondes\\appdata\\local\\anaconda3\\lib\\site-packages (from jupyterlab) (75.1.0)\n",
      "Requirement already satisfied: tornado>=6.2.0 in c:\\users\\bekir.ondes\\appdata\\local\\anaconda3\\lib\\site-packages (from jupyterlab) (6.4.1)\n",
      "Requirement already satisfied: traitlets in c:\\users\\bekir.ondes\\appdata\\local\\anaconda3\\lib\\site-packages (from jupyterlab) (5.14.3)\n",
      "Requirement already satisfied: nbdime~=4.0.1 in c:\\users\\bekir.ondes\\appdata\\local\\anaconda3\\lib\\site-packages (from jupyterlab-git) (4.0.2)\n",
      "Requirement already satisfied: nbformat in c:\\users\\bekir.ondes\\appdata\\local\\anaconda3\\lib\\site-packages (from jupyterlab-git) (5.10.4)\n",
      "Requirement already satisfied: pexpect in c:\\users\\bekir.ondes\\appdata\\local\\anaconda3\\lib\\site-packages (from jupyterlab-git) (4.8.0)\n",
      "Requirement already satisfied: anyio in c:\\users\\bekir.ondes\\appdata\\local\\anaconda3\\lib\\site-packages (from httpx>=0.25.0->jupyterlab) (4.2.0)\n",
      "Requirement already satisfied: certifi in c:\\users\\bekir.ondes\\appdata\\local\\anaconda3\\lib\\site-packages (from httpx>=0.25.0->jupyterlab) (2024.8.30)\n",
      "Requirement already satisfied: httpcore==1.* in c:\\users\\bekir.ondes\\appdata\\local\\anaconda3\\lib\\site-packages (from httpx>=0.25.0->jupyterlab) (1.0.2)\n",
      "Requirement already satisfied: idna in c:\\users\\bekir.ondes\\appdata\\local\\anaconda3\\lib\\site-packages (from httpx>=0.25.0->jupyterlab) (3.7)\n",
      "Requirement already satisfied: sniffio in c:\\users\\bekir.ondes\\appdata\\local\\anaconda3\\lib\\site-packages (from httpx>=0.25.0->jupyterlab) (1.3.0)\n",
      "Requirement already satisfied: h11<0.15,>=0.13 in c:\\users\\bekir.ondes\\appdata\\local\\anaconda3\\lib\\site-packages (from httpcore==1.*->httpx>=0.25.0->jupyterlab) (0.14.0)\n",
      "Requirement already satisfied: comm>=0.1.1 in c:\\users\\bekir.ondes\\appdata\\local\\anaconda3\\lib\\site-packages (from ipykernel>=6.5.0->jupyterlab) (0.2.1)\n",
      "Requirement already satisfied: debugpy>=1.6.5 in c:\\users\\bekir.ondes\\appdata\\local\\anaconda3\\lib\\site-packages (from ipykernel>=6.5.0->jupyterlab) (1.6.7)\n",
      "Requirement already satisfied: ipython>=7.23.1 in c:\\users\\bekir.ondes\\appdata\\local\\anaconda3\\lib\\site-packages (from ipykernel>=6.5.0->jupyterlab) (8.27.0)\n",
      "Requirement already satisfied: jupyter-client>=6.1.12 in c:\\users\\bekir.ondes\\appdata\\local\\anaconda3\\lib\\site-packages (from ipykernel>=6.5.0->jupyterlab) (8.6.0)\n",
      "Requirement already satisfied: matplotlib-inline>=0.1 in c:\\users\\bekir.ondes\\appdata\\local\\anaconda3\\lib\\site-packages (from ipykernel>=6.5.0->jupyterlab) (0.1.6)\n",
      "Requirement already satisfied: nest-asyncio in c:\\users\\bekir.ondes\\appdata\\local\\anaconda3\\lib\\site-packages (from ipykernel>=6.5.0->jupyterlab) (1.6.0)\n",
      "Requirement already satisfied: psutil in c:\\users\\bekir.ondes\\appdata\\local\\anaconda3\\lib\\site-packages (from ipykernel>=6.5.0->jupyterlab) (5.9.0)\n",
      "Requirement already satisfied: pyzmq>=24 in c:\\users\\bekir.ondes\\appdata\\local\\anaconda3\\lib\\site-packages (from ipykernel>=6.5.0->jupyterlab) (25.1.2)\n",
      "Requirement already satisfied: MarkupSafe>=2.0 in c:\\users\\bekir.ondes\\appdata\\local\\anaconda3\\lib\\site-packages (from jinja2>=3.0.3->jupyterlab) (2.1.3)\n",
      "Requirement already satisfied: platformdirs>=2.5 in c:\\users\\bekir.ondes\\appdata\\local\\anaconda3\\lib\\site-packages (from jupyter-core->jupyterlab) (3.10.0)\n",
      "Requirement already satisfied: pywin32>=300 in c:\\users\\bekir.ondes\\appdata\\local\\anaconda3\\lib\\site-packages (from jupyter-core->jupyterlab) (305.1)\n",
      "Requirement already satisfied: argon2-cffi>=21.1 in c:\\users\\bekir.ondes\\appdata\\local\\anaconda3\\lib\\site-packages (from jupyter-server<3,>=2.4.0->jupyterlab) (21.3.0)\n",
      "Requirement already satisfied: jupyter-events>=0.9.0 in c:\\users\\bekir.ondes\\appdata\\local\\anaconda3\\lib\\site-packages (from jupyter-server<3,>=2.4.0->jupyterlab) (0.10.0)\n",
      "Requirement already satisfied: jupyter-server-terminals>=0.4.4 in c:\\users\\bekir.ondes\\appdata\\local\\anaconda3\\lib\\site-packages (from jupyter-server<3,>=2.4.0->jupyterlab) (0.4.4)\n",
      "Requirement already satisfied: nbconvert>=6.4.4 in c:\\users\\bekir.ondes\\appdata\\local\\anaconda3\\lib\\site-packages (from jupyter-server<3,>=2.4.0->jupyterlab) (7.16.4)\n",
      "Requirement already satisfied: overrides>=5.0 in c:\\users\\bekir.ondes\\appdata\\local\\anaconda3\\lib\\site-packages (from jupyter-server<3,>=2.4.0->jupyterlab) (7.4.0)\n",
      "Requirement already satisfied: prometheus-client>=0.9 in c:\\users\\bekir.ondes\\appdata\\local\\anaconda3\\lib\\site-packages (from jupyter-server<3,>=2.4.0->jupyterlab) (0.14.1)\n",
      "Requirement already satisfied: pywinpty>=2.0.1 in c:\\users\\bekir.ondes\\appdata\\local\\anaconda3\\lib\\site-packages (from jupyter-server<3,>=2.4.0->jupyterlab) (2.0.10)\n",
      "Requirement already satisfied: send2trash>=1.8.2 in c:\\users\\bekir.ondes\\appdata\\local\\anaconda3\\lib\\site-packages (from jupyter-server<3,>=2.4.0->jupyterlab) (1.8.2)\n",
      "Requirement already satisfied: terminado>=0.8.3 in c:\\users\\bekir.ondes\\appdata\\local\\anaconda3\\lib\\site-packages (from jupyter-server<3,>=2.4.0->jupyterlab) (0.17.1)\n",
      "Requirement already satisfied: websocket-client>=1.7 in c:\\users\\bekir.ondes\\appdata\\local\\anaconda3\\lib\\site-packages (from jupyter-server<3,>=2.4.0->jupyterlab) (1.8.0)\n",
      "Requirement already satisfied: babel>=2.10 in c:\\users\\bekir.ondes\\appdata\\local\\anaconda3\\lib\\site-packages (from jupyterlab-server<3,>=2.27.1->jupyterlab) (2.11.0)\n",
      "Requirement already satisfied: json5>=0.9.0 in c:\\users\\bekir.ondes\\appdata\\local\\anaconda3\\lib\\site-packages (from jupyterlab-server<3,>=2.27.1->jupyterlab) (0.9.6)\n",
      "Requirement already satisfied: jsonschema>=4.18.0 in c:\\users\\bekir.ondes\\appdata\\local\\anaconda3\\lib\\site-packages (from jupyterlab-server<3,>=2.27.1->jupyterlab) (4.23.0)\n",
      "Requirement already satisfied: requests>=2.31 in c:\\users\\bekir.ondes\\appdata\\local\\anaconda3\\lib\\site-packages (from jupyterlab-server<3,>=2.27.1->jupyterlab) (2.32.3)\n",
      "Requirement already satisfied: colorama in c:\\users\\bekir.ondes\\appdata\\local\\anaconda3\\lib\\site-packages (from nbdime~=4.0.1->jupyterlab-git) (0.4.6)\n",
      "Requirement already satisfied: gitpython!=2.1.4,!=2.1.5,!=2.1.6 in c:\\users\\bekir.ondes\\appdata\\local\\anaconda3\\lib\\site-packages (from nbdime~=4.0.1->jupyterlab-git) (3.1.43)\n",
      "Requirement already satisfied: jupyter-server-mathjax>=0.2.2 in c:\\users\\bekir.ondes\\appdata\\local\\anaconda3\\lib\\site-packages (from nbdime~=4.0.1->jupyterlab-git) (0.2.6)\n",
      "Requirement already satisfied: pygments in c:\\users\\bekir.ondes\\appdata\\local\\anaconda3\\lib\\site-packages (from nbdime~=4.0.1->jupyterlab-git) (2.15.1)\n",
      "Requirement already satisfied: fastjsonschema>=2.15 in c:\\users\\bekir.ondes\\appdata\\local\\anaconda3\\lib\\site-packages (from nbformat->jupyterlab-git) (2.16.2)\n",
      "Requirement already satisfied: ptyprocess>=0.5 in c:\\users\\bekir.ondes\\appdata\\local\\anaconda3\\lib\\site-packages (from pexpect->jupyterlab-git) (0.7.0)\n",
      "Requirement already satisfied: argon2-cffi-bindings in c:\\users\\bekir.ondes\\appdata\\local\\anaconda3\\lib\\site-packages (from argon2-cffi>=21.1->jupyter-server<3,>=2.4.0->jupyterlab) (21.2.0)\n",
      "Requirement already satisfied: pytz>=2015.7 in c:\\users\\bekir.ondes\\appdata\\local\\anaconda3\\lib\\site-packages (from babel>=2.10->jupyterlab-server<3,>=2.27.1->jupyterlab) (2024.1)\n",
      "Requirement already satisfied: gitdb<5,>=4.0.1 in c:\\users\\bekir.ondes\\appdata\\local\\anaconda3\\lib\\site-packages (from gitpython!=2.1.4,!=2.1.5,!=2.1.6->nbdime~=4.0.1->jupyterlab-git) (4.0.7)\n",
      "Requirement already satisfied: decorator in c:\\users\\bekir.ondes\\appdata\\local\\anaconda3\\lib\\site-packages (from ipython>=7.23.1->ipykernel>=6.5.0->jupyterlab) (5.1.1)\n",
      "Requirement already satisfied: jedi>=0.16 in c:\\users\\bekir.ondes\\appdata\\local\\anaconda3\\lib\\site-packages (from ipython>=7.23.1->ipykernel>=6.5.0->jupyterlab) (0.19.1)\n",
      "Requirement already satisfied: prompt-toolkit<3.1.0,>=3.0.41 in c:\\users\\bekir.ondes\\appdata\\local\\anaconda3\\lib\\site-packages (from ipython>=7.23.1->ipykernel>=6.5.0->jupyterlab) (3.0.43)\n",
      "Requirement already satisfied: stack-data in c:\\users\\bekir.ondes\\appdata\\local\\anaconda3\\lib\\site-packages (from ipython>=7.23.1->ipykernel>=6.5.0->jupyterlab) (0.2.0)\n",
      "Requirement already satisfied: attrs>=22.2.0 in c:\\users\\bekir.ondes\\appdata\\local\\anaconda3\\lib\\site-packages (from jsonschema>=4.18.0->jupyterlab-server<3,>=2.27.1->jupyterlab) (24.2.0)\n",
      "Requirement already satisfied: jsonschema-specifications>=2023.03.6 in c:\\users\\bekir.ondes\\appdata\\local\\anaconda3\\lib\\site-packages (from jsonschema>=4.18.0->jupyterlab-server<3,>=2.27.1->jupyterlab) (2023.7.1)\n",
      "Requirement already satisfied: referencing>=0.28.4 in c:\\users\\bekir.ondes\\appdata\\local\\anaconda3\\lib\\site-packages (from jsonschema>=4.18.0->jupyterlab-server<3,>=2.27.1->jupyterlab) (0.30.2)\n",
      "Requirement already satisfied: rpds-py>=0.7.1 in c:\\users\\bekir.ondes\\appdata\\local\\anaconda3\\lib\\site-packages (from jsonschema>=4.18.0->jupyterlab-server<3,>=2.27.1->jupyterlab) (0.10.6)\n",
      "Requirement already satisfied: python-dateutil>=2.8.2 in c:\\users\\bekir.ondes\\appdata\\local\\anaconda3\\lib\\site-packages (from jupyter-client>=6.1.12->ipykernel>=6.5.0->jupyterlab) (2.9.0.post0)\n",
      "Requirement already satisfied: python-json-logger>=2.0.4 in c:\\users\\bekir.ondes\\appdata\\local\\anaconda3\\lib\\site-packages (from jupyter-events>=0.9.0->jupyter-server<3,>=2.4.0->jupyterlab) (2.0.7)\n",
      "Requirement already satisfied: pyyaml>=5.3 in c:\\users\\bekir.ondes\\appdata\\local\\anaconda3\\lib\\site-packages (from jupyter-events>=0.9.0->jupyter-server<3,>=2.4.0->jupyterlab) (6.0.1)\n",
      "Requirement already satisfied: rfc3339-validator in c:\\users\\bekir.ondes\\appdata\\local\\anaconda3\\lib\\site-packages (from jupyter-events>=0.9.0->jupyter-server<3,>=2.4.0->jupyterlab) (0.1.4)\n",
      "Requirement already satisfied: rfc3986-validator>=0.1.1 in c:\\users\\bekir.ondes\\appdata\\local\\anaconda3\\lib\\site-packages (from jupyter-events>=0.9.0->jupyter-server<3,>=2.4.0->jupyterlab) (0.1.1)\n",
      "Requirement already satisfied: beautifulsoup4 in c:\\users\\bekir.ondes\\appdata\\local\\anaconda3\\lib\\site-packages (from nbconvert>=6.4.4->jupyter-server<3,>=2.4.0->jupyterlab) (4.12.3)\n",
      "Requirement already satisfied: bleach!=5.0.0 in c:\\users\\bekir.ondes\\appdata\\local\\anaconda3\\lib\\site-packages (from nbconvert>=6.4.4->jupyter-server<3,>=2.4.0->jupyterlab) (4.1.0)\n",
      "Requirement already satisfied: defusedxml in c:\\users\\bekir.ondes\\appdata\\local\\anaconda3\\lib\\site-packages (from nbconvert>=6.4.4->jupyter-server<3,>=2.4.0->jupyterlab) (0.7.1)\n",
      "Requirement already satisfied: jupyterlab-pygments in c:\\users\\bekir.ondes\\appdata\\local\\anaconda3\\lib\\site-packages (from nbconvert>=6.4.4->jupyter-server<3,>=2.4.0->jupyterlab) (0.1.2)\n",
      "Requirement already satisfied: mistune<4,>=2.0.3 in c:\\users\\bekir.ondes\\appdata\\local\\anaconda3\\lib\\site-packages (from nbconvert>=6.4.4->jupyter-server<3,>=2.4.0->jupyterlab) (2.0.4)\n",
      "Requirement already satisfied: nbclient>=0.5.0 in c:\\users\\bekir.ondes\\appdata\\local\\anaconda3\\lib\\site-packages (from nbconvert>=6.4.4->jupyter-server<3,>=2.4.0->jupyterlab) (0.8.0)\n",
      "Requirement already satisfied: pandocfilters>=1.4.1 in c:\\users\\bekir.ondes\\appdata\\local\\anaconda3\\lib\\site-packages (from nbconvert>=6.4.4->jupyter-server<3,>=2.4.0->jupyterlab) (1.5.0)\n",
      "Requirement already satisfied: tinycss2 in c:\\users\\bekir.ondes\\appdata\\local\\anaconda3\\lib\\site-packages (from nbconvert>=6.4.4->jupyter-server<3,>=2.4.0->jupyterlab) (1.2.1)\n",
      "Requirement already satisfied: charset-normalizer<4,>=2 in c:\\users\\bekir.ondes\\appdata\\local\\anaconda3\\lib\\site-packages (from requests>=2.31->jupyterlab-server<3,>=2.27.1->jupyterlab) (3.3.2)\n",
      "Requirement already satisfied: urllib3<3,>=1.21.1 in c:\\users\\bekir.ondes\\appdata\\local\\anaconda3\\lib\\site-packages (from requests>=2.31->jupyterlab-server<3,>=2.27.1->jupyterlab) (2.2.3)\n",
      "Requirement already satisfied: six>=1.9.0 in c:\\users\\bekir.ondes\\appdata\\local\\anaconda3\\lib\\site-packages (from bleach!=5.0.0->nbconvert>=6.4.4->jupyter-server<3,>=2.4.0->jupyterlab) (1.16.0)\n",
      "Requirement already satisfied: webencodings in c:\\users\\bekir.ondes\\appdata\\local\\anaconda3\\lib\\site-packages (from bleach!=5.0.0->nbconvert>=6.4.4->jupyter-server<3,>=2.4.0->jupyterlab) (0.5.1)\n",
      "Requirement already satisfied: smmap<5,>=3.0.1 in c:\\users\\bekir.ondes\\appdata\\local\\anaconda3\\lib\\site-packages (from gitdb<5,>=4.0.1->gitpython!=2.1.4,!=2.1.5,!=2.1.6->nbdime~=4.0.1->jupyterlab-git) (4.0.0)\n",
      "Requirement already satisfied: parso<0.9.0,>=0.8.3 in c:\\users\\bekir.ondes\\appdata\\local\\anaconda3\\lib\\site-packages (from jedi>=0.16->ipython>=7.23.1->ipykernel>=6.5.0->jupyterlab) (0.8.3)\n",
      "Requirement already satisfied: fqdn in c:\\users\\bekir.ondes\\appdata\\local\\anaconda3\\lib\\site-packages (from jsonschema[format-nongpl]>=4.18.0->jupyter-events>=0.9.0->jupyter-server<3,>=2.4.0->jupyterlab) (1.5.1)\n",
      "Requirement already satisfied: isoduration in c:\\users\\bekir.ondes\\appdata\\local\\anaconda3\\lib\\site-packages (from jsonschema[format-nongpl]>=4.18.0->jupyter-events>=0.9.0->jupyter-server<3,>=2.4.0->jupyterlab) (20.11.0)\n",
      "Requirement already satisfied: jsonpointer>1.13 in c:\\users\\bekir.ondes\\appdata\\local\\anaconda3\\lib\\site-packages (from jsonschema[format-nongpl]>=4.18.0->jupyter-events>=0.9.0->jupyter-server<3,>=2.4.0->jupyterlab) (2.1)\n",
      "Requirement already satisfied: uri-template in c:\\users\\bekir.ondes\\appdata\\local\\anaconda3\\lib\\site-packages (from jsonschema[format-nongpl]>=4.18.0->jupyter-events>=0.9.0->jupyter-server<3,>=2.4.0->jupyterlab) (1.3.0)\n",
      "Requirement already satisfied: webcolors>=24.6.0 in c:\\users\\bekir.ondes\\appdata\\local\\anaconda3\\lib\\site-packages (from jsonschema[format-nongpl]>=4.18.0->jupyter-events>=0.9.0->jupyter-server<3,>=2.4.0->jupyterlab) (24.11.1)\n",
      "Requirement already satisfied: wcwidth in c:\\users\\bekir.ondes\\appdata\\local\\anaconda3\\lib\\site-packages (from prompt-toolkit<3.1.0,>=3.0.41->ipython>=7.23.1->ipykernel>=6.5.0->jupyterlab) (0.2.5)\n",
      "Requirement already satisfied: cffi>=1.0.1 in c:\\users\\bekir.ondes\\appdata\\local\\anaconda3\\lib\\site-packages (from argon2-cffi-bindings->argon2-cffi>=21.1->jupyter-server<3,>=2.4.0->jupyterlab) (1.17.1)\n",
      "Requirement already satisfied: soupsieve>1.2 in c:\\users\\bekir.ondes\\appdata\\local\\anaconda3\\lib\\site-packages (from beautifulsoup4->nbconvert>=6.4.4->jupyter-server<3,>=2.4.0->jupyterlab) (2.5)\n",
      "Requirement already satisfied: executing in c:\\users\\bekir.ondes\\appdata\\local\\anaconda3\\lib\\site-packages (from stack-data->ipython>=7.23.1->ipykernel>=6.5.0->jupyterlab) (0.8.3)\n",
      "Requirement already satisfied: asttokens in c:\\users\\bekir.ondes\\appdata\\local\\anaconda3\\lib\\site-packages (from stack-data->ipython>=7.23.1->ipykernel>=6.5.0->jupyterlab) (2.0.5)\n",
      "Requirement already satisfied: pure-eval in c:\\users\\bekir.ondes\\appdata\\local\\anaconda3\\lib\\site-packages (from stack-data->ipython>=7.23.1->ipykernel>=6.5.0->jupyterlab) (0.2.2)\n",
      "Requirement already satisfied: pycparser in c:\\users\\bekir.ondes\\appdata\\local\\anaconda3\\lib\\site-packages (from cffi>=1.0.1->argon2-cffi-bindings->argon2-cffi>=21.1->jupyter-server<3,>=2.4.0->jupyterlab) (2.21)\n",
      "Requirement already satisfied: arrow>=0.15.0 in c:\\users\\bekir.ondes\\appdata\\local\\anaconda3\\lib\\site-packages (from isoduration->jsonschema[format-nongpl]>=4.18.0->jupyter-events>=0.9.0->jupyter-server<3,>=2.4.0->jupyterlab) (1.2.3)\n",
      "Downloading jupyterlab-4.4.3-py3-none-any.whl (12.3 MB)\n",
      "   ---------------------------------------- 0.0/12.3 MB ? eta -:--:--\n",
      "    --------------------------------------- 0.3/12.3 MB ? eta -:--:--\n",
      "   ---- ----------------------------------- 1.3/12.3 MB 4.5 MB/s eta 0:00:03\n",
      "   -------- ------------------------------- 2.6/12.3 MB 5.4 MB/s eta 0:00:02\n",
      "   ------------ --------------------------- 3.9/12.3 MB 5.7 MB/s eta 0:00:02\n",
      "   ---------------- ----------------------- 5.0/12.3 MB 5.8 MB/s eta 0:00:02\n",
      "   ----------------- ---------------------- 5.2/12.3 MB 4.8 MB/s eta 0:00:02\n",
      "   ------------------ --------------------- 5.8/12.3 MB 5.0 MB/s eta 0:00:02\n",
      "   --------------------------- ------------ 8.4/12.3 MB 5.5 MB/s eta 0:00:01\n",
      "   --------------------------------- ------ 10.2/12.3 MB 5.8 MB/s eta 0:00:01\n",
      "   -------------------------------------- - 11.8/12.3 MB 6.1 MB/s eta 0:00:01\n",
      "   ---------------------------------------- 12.3/12.3 MB 6.0 MB/s eta 0:00:00\n",
      "Installing collected packages: jupyterlab\n",
      "  Attempting uninstall: jupyterlab\n",
      "    Found existing installation: jupyterlab 4.2.5\n",
      "    Uninstalling jupyterlab-4.2.5:\n",
      "      Successfully uninstalled jupyterlab-4.2.5\n",
      "Successfully installed jupyterlab-4.4.3\n",
      "\n"
     ]
    },
    {
     "name": "stderr",
     "output_type": "stream",
     "text": [
      "  WARNING: Failed to remove contents in a temporary directory 'C:\\Users\\bekir.ondes\\AppData\\Local\\Temp\\pip-uninstall-v7zm5vkf'.\n",
      "  You can safely remove it manually.\n",
      "ERROR: pip's dependency resolver does not currently take into account all the packages that are installed. This behaviour is the source of the following dependency conflicts.\n",
      "notebook 7.2.2 requires jupyterlab<4.3,>=4.2.0, but you have jupyterlab 4.4.3 which is incompatible.\n"
     ]
    }
   ],
   "source": [
    "pip install --upgrade jupyterlab jupyterlab-git\n"
   ]
  },
  {
   "cell_type": "code",
   "execution_count": 10,
   "id": "091fd82f-e8af-488e-90e9-6442e864a342",
   "metadata": {},
   "outputs": [
    {
     "ename": "SyntaxError",
     "evalue": "invalid syntax (1773614203.py, line 1)",
     "output_type": "error",
     "traceback": [
      "\u001b[1;36m  Cell \u001b[1;32mIn[10], line 1\u001b[1;36m\u001b[0m\n\u001b[1;33m    jupyter server extension enable --py jupyterlab_git\u001b[0m\n\u001b[1;37m            ^\u001b[0m\n\u001b[1;31mSyntaxError\u001b[0m\u001b[1;31m:\u001b[0m invalid syntax\n"
     ]
    }
   ],
   "source": [
    "jupyter server extension enable --py jupyterlab_git"
   ]
  },
  {
   "cell_type": "code",
   "execution_count": null,
   "id": "a56a1715-126b-4c08-8c3c-a1f0b8c15136",
   "metadata": {},
   "outputs": [],
   "source": []
  }
 ],
 "metadata": {
  "kernelspec": {
   "display_name": "Python [conda env:base] *",
   "language": "python",
   "name": "conda-base-py"
  },
  "language_info": {
   "codemirror_mode": {
    "name": "ipython",
    "version": 3
   },
   "file_extension": ".py",
   "mimetype": "text/x-python",
   "name": "python",
   "nbconvert_exporter": "python",
   "pygments_lexer": "ipython3",
   "version": "3.12.7"
  }
 },
 "nbformat": 4,
 "nbformat_minor": 5
}
